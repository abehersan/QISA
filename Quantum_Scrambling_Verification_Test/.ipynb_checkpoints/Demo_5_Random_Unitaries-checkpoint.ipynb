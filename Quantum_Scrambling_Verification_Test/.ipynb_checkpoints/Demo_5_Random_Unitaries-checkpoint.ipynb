{
 "cells": [
  {
   "cell_type": "markdown",
   "id": "2b4dda5c",
   "metadata": {},
   "source": [
    "# Random Operators"
   ]
  },
  {
   "cell_type": "code",
   "execution_count": 420,
   "id": "3ec0cc39",
   "metadata": {},
   "outputs": [
    {
     "name": "stderr",
     "output_type": "stream",
     "text": [
      "ibmqfactory.load_account:WARNING:2021-06-04 01:30:51,369: Credentials are already in use. The existing account in the session will be replaced.\n"
     ]
    }
   ],
   "source": [
    "# first some general imports:\n",
    "%matplotlib inline\n",
    "import matplotlib, qiskit, pprint, itertools\n",
    "from matplotlib import pyplot as plt\n",
    "import numpy as np\n",
    "from numpy import pi\n",
    "from qiskit import IBMQ, QuantumRegister, ClassicalRegister, QuantumCircuit, Aer, transpile, schedule, assemble\n",
    "from qiskit.circuit import *\n",
    "from qiskit.circuit.library.standard_gates import *\n",
    "from qiskit.providers.aer import QasmSimulator\n",
    "from qiskit.test.mock import FakeAlmaden, FakeMelbourne\n",
    "from qiskit.visualization import *\n",
    "from qiskit.circuit.library import *\n",
    "# load IBM Q account:\n",
    "IBMQ.load_account()\n",
    "provider = IBMQ.get_provider(hub='ibm-q', group='open', project='main')\n",
    "# get simulator:\n",
    "qasm_simulator = Aer.get_backend('qasm_simulator') "
   ]
  },
  {
   "cell_type": "code",
   "execution_count": 421,
   "id": "a52354a5",
   "metadata": {},
   "outputs": [],
   "source": [
    "# import our utils for Quantum Information Scrambling Verification Test:\n",
    "from QSVT_utils import *\n",
    "# import our library with 3 qubit operators\n",
    "from operator_3q_lib import *"
   ]
  },
  {
   "cell_type": "markdown",
   "id": "dcf4c51a",
   "metadata": {},
   "source": [
    "# Test scrambling properties of random operators\n",
    "\n",
    "### Let's get random!\n",
    "\n",
    "First thing we will do is defining ourselfs a handy little function to return random operators based on the number of qubits $n$:"
   ]
  },
  {
   "cell_type": "code",
   "execution_count": 422,
   "id": "c94bfc1b",
   "metadata": {},
   "outputs": [],
   "source": [
    "def get_random_unitary_operator(n):\n",
    "    from qiskit.aqua.utils import random_unitary\n",
    "    return Operator(random_unitary(2**n))"
   ]
  },
  {
   "cell_type": "markdown",
   "id": "c6575122",
   "metadata": {},
   "source": [
    "Done! Now we can define our scrambler size of $n$ qubits and the number of different random operators $k$ we'd like to include into our scrambler:"
   ]
  },
  {
   "cell_type": "code",
   "execution_count": 441,
   "id": "a051643a",
   "metadata": {},
   "outputs": [
    {
     "name": "stdout",
     "output_type": "stream",
     "text": [
      "Operator([[ 2.68903291e-01+0.29292791j,  1.27621049e-01-0.10612897j,\n",
      "            2.96041359e-01-0.16591708j, -3.06802326e-01-0.17354111j,\n",
      "           -1.18399707e-01+0.04869183j,  3.71300625e-01+0.35591393j,\n",
      "           -2.29189957e-01+0.4479117j ,  1.09480177e-02-0.20179092j],\n",
      "          [ 2.76784179e-01+0.23608364j, -2.36760793e-01-0.09750367j,\n",
      "           -1.54820450e-01+0.0810759j ,  1.35545122e-01-0.1070239j ,\n",
      "            5.29196564e-02+0.02903696j,  2.16641324e-02-0.19922118j,\n",
      "           -2.92018562e-01+0.24359166j,  2.51747159e-02+0.74342153j],\n",
      "          [ 3.31874575e-01+0.19625746j, -4.29283015e-01+0.60193817j,\n",
      "           -1.54224863e-01-0.12524569j,  4.84985070e-02-0.16118865j,\n",
      "            1.42571432e-01-0.20334765j, -6.50812503e-02+0.18755274j,\n",
      "            1.08369460e-01-0.08286852j, -3.00372321e-01-0.16431675j],\n",
      "          [ 9.36562436e-02+0.29857352j,  1.65313112e-01-0.2074903j ,\n",
      "           -9.28850706e-02+0.49458194j,  5.02243826e-03+0.0514033j ,\n",
      "            4.66209312e-01-0.17799456j,  2.71667100e-01+0.2422253j ,\n",
      "            4.18942669e-01-0.11448041j,  4.51256792e-02+0.06025704j],\n",
      "          [ 2.98065384e-01+0.33042217j,  2.00290644e-01+0.01480129j,\n",
      "            1.91377723e-02+0.33293956j,  3.56859632e-01+0.0337646j ,\n",
      "           -4.89814016e-01+0.19957667j, -2.05772080e-01-0.2444257j ,\n",
      "            2.20465075e-01+0.14487049j, -1.29886589e-01-0.23160618j],\n",
      "          [ 7.28769659e-02+0.36092653j,  3.69144010e-01+0.13664495j,\n",
      "            2.75946789e-04-0.5295877j ,  1.87864501e-01-0.19852778j,\n",
      "            1.87337138e-01+0.12464681j,  1.26297773e-01-0.26659882j,\n",
      "            8.93637734e-02-0.30763079j,  3.37100340e-01+0.0198739j ],\n",
      "          [ 2.20479900e-01+0.04809515j, -1.42884953e-01+0.18571305j,\n",
      "           -7.82876581e-02+0.21369346j, -1.22180581e-01+0.47866837j,\n",
      "            6.10151812e-02+0.52264797j,  1.81678993e-01+0.05017203j,\n",
      "           -3.47467894e-01-0.31661615j,  2.22721178e-01-0.12382237j],\n",
      "          [ 2.07586319e-01+0.18800671j,  1.98495661e-01-0.01766976j,\n",
      "            2.60399343e-01-0.22427162j, -2.03441251e-01+0.57122042j,\n",
      "            1.10425010e-01-0.22315651j, -5.34451542e-01+0.11462955j,\n",
      "            3.57552934e-02+0.02307433j, -4.59573817e-02+0.17711046j]],\n",
      "         input_dims=(2, 2, 2), output_dims=(2, 2, 2))\n"
     ]
    }
   ],
   "source": [
    "k = 3 # let's generate a list of three random operators\n",
    "\n",
    "n = 3 # number of qubits our scrambling operators span, as usual\n",
    "\n",
    "random_operator_list = [get_random_unitary_operator(n) for x in range(k)] # our list with random operators\n",
    "\n",
    "# let's see one!\n",
    "print(random_operator_list[0])"
   ]
  },
  {
   "cell_type": "markdown",
   "id": "6e08d00d",
   "metadata": {},
   "source": [
    "Very well. Now we do have everything we need to build and test the corresponding scrambler. \n",
    "\n",
    "#### For now, we are going to build only the scrambling part for, and plug it into our scrambling verification teleportation protocol later:"
   ]
  },
  {
   "cell_type": "code",
   "execution_count": 442,
   "id": "c89c2b89",
   "metadata": {},
   "outputs": [
    {
     "data": {
      "image/png": "[encoded data removed]",
      "text/plain": [
       "<Figure size 447.797x505.68 with 1 Axes>"
      ]
     },
     "execution_count": 442,
     "metadata": {},
     "output_type": "execute_result"
    }
   ],
   "source": [
    "# num of qubits in circuit = 1 q for bob + n*2\n",
    "qnum = 2*n +1\n",
    "\n",
    "# inums of upper and lower half qubits\n",
    "fst_half, sec_half = fst_n_sec_half_nums(qnum)\n",
    "\n",
    "# new srambling circ\n",
    "scrambling_circ = QuantumCircuit(qnum,qnum)\n",
    "\n",
    "# apply random operators\n",
    "for randomop in random_operator_list:\n",
    "    scrambling_circ.append(randomop,fst_half)\n",
    "    scrambling_circ.append(randomop.transpose(), sec_half)\n",
    "# let's see it!\n",
    "scrambling_circ.draw('mpl')"
   ]
  },
  {
   "cell_type": "markdown",
   "id": "cc9d97da",
   "metadata": {},
   "source": [
    "#### For large experimental setups it may also make sense to give this scrambler an id and save its data. This is how that is done:"
   ]
  },
  {
   "cell_type": "code",
   "execution_count": 443,
   "id": "bae93da2",
   "metadata": {},
   "outputs": [],
   "source": [
    "# define some id for this scrambler plus a path to save it to:\n",
    "opid = \"001\"\n",
    "path = \".//data//001.npy\"\n",
    "# save the scrambler in form of a np.array:\n",
    "with open(path, 'wb') as f:\n",
    "    np.save(f, Operator(scrambling_circ).data)"
   ]
  },
  {
   "cell_type": "code",
   "execution_count": 444,
   "id": "179d68e6",
   "metadata": {},
   "outputs": [],
   "source": [
    "# to get the operator back from that file later, you just go:\n",
    "with open(path, 'rb') as f:\n",
    "    opdata = np.load(f)\n",
    "# and here it is again:    \n",
    "op_001 = Operator(opdata)"
   ]
  },
  {
   "cell_type": "code",
   "execution_count": 445,
   "id": "f66666f0",
   "metadata": {},
   "outputs": [
    {
     "data": {
      "image/png": "[encoded data removed]",
      "text/plain": [
       "<Figure size 206.997x505.68 with 1 Axes>"
      ]
     },
     "execution_count": 445,
     "metadata": {},
     "output_type": "execute_result"
    }
   ],
   "source": [
    "# to plug the operator of the full scrambling operation back into a circuit, you can do so like that:\n",
    "scrambling_circ = QuantumCircuit(qnum,qnum)\n",
    "scrambling_circ.append(op_001,[x for x in range(qnum)])\n",
    "scrambling_circ.draw('mpl') # let's see it!"
   ]
  },
  {
   "cell_type": "markdown",
   "id": "2e3d4398",
   "metadata": {},
   "source": [
    "#### While we are at it, let's actually also make a dictionary storing all the related data:"
   ]
  },
  {
   "cell_type": "code",
   "execution_count": 457,
   "id": "5d9220f7",
   "metadata": {},
   "outputs": [],
   "source": [
    "# make a datadict:\n",
    "datadict = {}\n",
    "# fill it with its first item:\n",
    "datadict[opid] = {\"qnum\": qnum, \"scrambling_fidelity\": None, \"npy_operator_file\": \".//data//001.npy\"}\n",
    "# dump it:\n",
    "import json\n",
    "with open('.\\data\\datadict.json', 'w') as f:\n",
    "    json.dump(datadict, f)"
   ]
  },
  {
   "cell_type": "markdown",
   "id": "8691c8e6",
   "metadata": {},
   "source": [
    "#### Great! Now it is saved for all times! Let's resume testing its scrambling properties. Let's actually make a function for that while we are at it.\n",
    "\n",
    "## Function to test the scrambling fidelity of any operator:"
   ]
  },
  {
   "cell_type": "code",
   "execution_count": 458,
   "id": "9c73192f",
   "metadata": {},
   "outputs": [],
   "source": [
    "from qiskit import IBMQ, QuantumRegister, ClassicalRegister, QuantumCircuit, Aer, transpile, schedule, assemble\n",
    "from QSVT_utils import *\n",
    "\n",
    "def test_scrambling_operator_fidelity(qnum, srambling_op, measpair_inum=0):\n",
    "\n",
    "    bell_pairs = get_bell_pairs(qnum) # get inums for bell pairs\n",
    "    meas_pairs = [x for x in bell_pairs[:-1]]+[[0,qnum-2]] # replace bob and neighbor with alice and bob neighbor\n",
    "    inum_alice, inum_bob = 0, qnum-1 # alice has qubit 0 - bob has qubit with last inum \n",
    "    basemeas = meas_pairs[measpair_inum] #qubit pair that will be used for base measurement, default=first in the list\n",
    "    \n",
    "    testcirc = QuantumCircuit(qnum,qnum) # new test circ\n",
    "    entangle_bell_pairs(testcirc, bell_pairs) # initialize bell pairs\n",
    "    testcirc.x(inum_alice) # initialize alice qubit in |1> state\n",
    "\n",
    "    testcirc.append(srambling_op, [x for x in range(qnum)]) # apply the scrambler \n",
    "    \n",
    "    disentangle_bell_pair(testcirc, basemeas) # disentangle base meas bell pair\n",
    "    apply_bob_gates(testcirc,inum_bob,basemeas) # apply decoding from measurement\n",
    "    testcirc.measure(inum_bob,inum_bob) # measure bob qubit\n",
    "    \n",
    "    # get simulator, transpile, assemble and run:\n",
    "    be = Aer.get_backend('qasm_simulator') \n",
    "    t_qc = transpile(testcirc, be)\n",
    "    shots = 1000\n",
    "    qobj = assemble(t_qc, shots=shots)\n",
    "    result = be.run(qobj).result()\n",
    "    fid_dict = {\"1\": sum([v for (k,v) in result.get_counts().items() if k[0]== \"1\"]),\n",
    "                \"0\": sum([v for (k,v) in result.get_counts().items() if k[0]== \"0\"])}\n",
    "    \n",
    "    fid = fid_dict.get(\"1\")/shots\n",
    "    return fid_dict, fid"
   ]
  },
  {
   "cell_type": "markdown",
   "id": "139666bd",
   "metadata": {},
   "source": [
    "Okay, now let's use it on our operator op_001:"
   ]
  },
  {
   "cell_type": "code",
   "execution_count": 459,
   "id": "5f00f039",
   "metadata": {
    "scrolled": true
   },
   "outputs": [
    {
     "name": "stdout",
     "output_type": "stream",
     "text": [
      "Fidelity: 0.508\n"
     ]
    },
    {
     "data": {
      "image/png": "[encoded data removed]",
      "text/plain": [
       "<Figure size 504x360 with 1 Axes>"
      ]
     },
     "execution_count": 459,
     "metadata": {},
     "output_type": "execute_result"
    }
   ],
   "source": [
    "fid_dict,fid = test_scrambling_operator_fidelity(qnum=qnum, srambling_op=op_001)\n",
    "print(\"Fidelity:\", fid)\n",
    "plot_histogram(fid_dict)"
   ]
  },
  {
   "cell_type": "code",
   "execution_count": 460,
   "id": "686c62b5",
   "metadata": {},
   "outputs": [],
   "source": [
    "# of course we will update our datadict with that new fidelity!\n",
    "datadict[opid]['scrambling_fidelity'] = fid"
   ]
  },
  {
   "cell_type": "markdown",
   "id": "11d91e7f",
   "metadata": {},
   "source": [
    "# Check the BDM\n",
    "\n",
    "#### In order to apply the Block Decomposition Method, we first need an unpacked bitstring of our operator.\n",
    "\n",
    "To get that, we can use these cute little functions:"
   ]
  },
  {
   "cell_type": "code",
   "execution_count": 461,
   "id": "94ba3500",
   "metadata": {},
   "outputs": [],
   "source": [
    "# get a bit list from operator\n",
    "def get_bit_list_from_operator(operator):\n",
    "    s = str(operator.data)\n",
    "    result_bits = []\n",
    "    for c in s:\n",
    "        bits = bin(ord(c))[2:]\n",
    "        bits = '00000000'[len(bits):] + bits\n",
    "        result_bits.extend([int(b) for b in bits])\n",
    "    return result_bits"
   ]
  },
  {
   "cell_type": "code",
   "execution_count": 462,
   "id": "68f5494f",
   "metadata": {},
   "outputs": [],
   "source": [
    "# get operator array back from bit list\n",
    "def get_op_array_from_bits(bits):\n",
    "    chars = []\n",
    "    for b in range(int(len(bits) / 8)):\n",
    "        byte = bits[b*8:(b+1)*8]\n",
    "        chars.append(chr(int(''.join([str(bit) for bit in byte]), 2)))\n",
    "    return np.array(''.join(chars))"
   ]
  },
  {
   "cell_type": "markdown",
   "id": "1a489c75",
   "metadata": {},
   "source": [
    "Right on, right on. Let's test it:"
   ]
  },
  {
   "cell_type": "code",
   "execution_count": 463,
   "id": "17b371f7",
   "metadata": {},
   "outputs": [
    {
     "name": "stdout",
     "output_type": "stream",
     "text": [
      "Bits 0-10: [0, 1, 0, 1, 1, 0, 1, 1, 0, 1]\n",
      "Length of bit list: 7096\n"
     ]
    }
   ],
   "source": [
    "# get bits from operator\n",
    "op_bits = get_bit_list_from_operator(op_001)\n",
    "# test it:\n",
    "print(\"Bits 0-10:\", op_bits[:10])\n",
    "print(\"Length of bit list:\",len(op_bits))"
   ]
  },
  {
   "cell_type": "markdown",
   "id": "dbe29753",
   "metadata": {},
   "source": [
    "Wow! That lenght is something. Good thing we printed only the first 10 items 😉. "
   ]
  },
  {
   "cell_type": "markdown",
   "id": "33a903a3",
   "metadata": {},
   "source": [
    "Cool. But how do we get the BDM from that now? No problemo, first we need this function returning the BDM for a bit array:"
   ]
  },
  {
   "cell_type": "code",
   "execution_count": 464,
   "id": "20106c00",
   "metadata": {},
   "outputs": [],
   "source": [
    "def get_bdm_of_bit_array(bit_array):\n",
    "    from pybdm import BDM\n",
    "    bdm = BDM(ndim=1, nsymbols=2)\n",
    "    return bdm.bdm(bit_array)"
   ]
  },
  {
   "cell_type": "markdown",
   "id": "95c8ba7e",
   "metadata": {},
   "source": [
    "Now we use it to get the BDM for the bit array of our operator op_001 (and update our datadict with that one too, you know the drill):"
   ]
  },
  {
   "cell_type": "code",
   "execution_count": 465,
   "id": "fee695a3",
   "metadata": {},
   "outputs": [
    {
     "name": "stdout",
     "output_type": "stream",
     "text": [
      "BDM value: 39.02536318911598\n",
      "BDM Score: 0.16812511338166605\n"
     ]
    }
   ],
   "source": [
    "bdm_val = get_bdm_of_bit_array(op_bit_array) # get bdm\n",
    "datadict[opid][\"bdm_val\"] = bdm_val # update datadict\n",
    "bdm_score = bdm.nbdm(np.array(op_bits)) # bdm score\n",
    "datadict[opid][\"bdm_score\"] = bdm_score # update datadict\n",
    "# curious? let's see it:\n",
    "print(\"BDM value:\", bdm_val)\n",
    "print(\"BDM Score:\", bdm_score)"
   ]
  },
  {
   "cell_type": "markdown",
   "id": "d61468f6",
   "metadata": {},
   "source": [
    "### And that is how you get a full test data set for some random operator!\n",
    "\n",
    "Let's take one last, long and satisfying look at the data dictionary before we dump it again..."
   ]
  },
  {
   "cell_type": "code",
   "execution_count": 466,
   "id": "9ab3ff89",
   "metadata": {
    "scrolled": false
   },
   "outputs": [
    {
     "name": "stdout",
     "output_type": "stream",
     "text": [
      "{'001': {'bdm_score': 0.16812511338166605,\n",
      "         'bdm_val': 39.02536318911598,\n",
      "         'npy_operator_file': './/data//001.npy',\n",
      "         'qnum': 7,\n",
      "         'scrambling_fidelity': 0.508}}\n"
     ]
    }
   ],
   "source": [
    "pprint.pprint(datadict)"
   ]
  },
  {
   "cell_type": "code",
   "execution_count": 468,
   "id": "72d90907",
   "metadata": {
    "scrolled": true
   },
   "outputs": [],
   "source": [
    "# a beauty. let's dump it:\n",
    "with open('.\\data\\datadict.json', 'w') as f:\n",
    "    json.dump(datadict, f)"
   ]
  }
 ],
 "metadata": {
  "kernelspec": {
   "display_name": "metal",
   "language": "python",
   "name": "metal"
  },
  "language_info": {
   "codemirror_mode": {
    "name": "ipython",
    "version": 3
   },
   "file_extension": ".py",
   "mimetype": "text/x-python",
   "name": "python",
   "nbconvert_exporter": "python",
   "pygments_lexer": "ipython3",
   "version": "3.7.8"
  }
 },
 "nbformat": 4,
 "nbformat_minor": 5
}
