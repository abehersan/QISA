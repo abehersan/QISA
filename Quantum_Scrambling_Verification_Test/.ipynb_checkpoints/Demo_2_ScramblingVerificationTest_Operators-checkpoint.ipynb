{
 "cells": [
  {
   "cell_type": "markdown",
   "id": "09254b72",
   "metadata": {},
   "source": [
    "# Demo of Scrambling with Operators using the library in operator_3q_lib.py\n",
    "\n",
    "For convenience we made a ready to use scrambling operator library module, containing the opertors we found in the referenced \"Quantum Scrambling Library\".\n",
    "\n",
    "Reference: [Building and Programming a Universal Ion Trap Quantum Computer](http://iontrap.umd.edu/wp-content/uploads/2013/10/FiggattThesis.pdf)"
   ]
  },
  {
   "cell_type": "markdown",
   "id": "9e230844",
   "metadata": {},
   "source": [
    "### Let's see how we can plug operators like such into our scrambling verification protocol and see how the fidelity turns out for each!"
   ]
  },
  {
   "cell_type": "code",
   "execution_count": 3,
   "id": "3ec0cc39",
   "metadata": {},
   "outputs": [],
   "source": [
    "# first some general imports:\n",
    "%matplotlib inline\n",
    "import matplotlib, qiskit, pprint, itertools\n",
    "from matplotlib import pyplot as plt\n",
    "import numpy as np\n",
    "from numpy import pi\n",
    "from qiskit import QuantumRegister, ClassicalRegister, QuantumCircuit, Aer, IBMQ, transpile, schedule, assemble\n",
    "from qiskit.circuit import *\n",
    "from qiskit.circuit.library.standard_gates import *\n",
    "from qiskit.providers.aer import QasmSimulator\n",
    "from qiskit.test.mock import FakeAlmaden, FakeMelbourne\n",
    "from qiskit.visualization import *\n",
    "from qiskit.circuit.library import *"
   ]
  },
  {
   "cell_type": "code",
   "execution_count": 4,
   "id": "a52354a5",
   "metadata": {},
   "outputs": [],
   "source": [
    "# import our utils for Quantum Information Scrambling Verification Test:\n",
    "from QSVT_utils import *\n",
    "\n",
    "# import our library with 3 qubit operators\n",
    "from operator_3q_lib import *"
   ]
  },
  {
   "cell_type": "code",
   "execution_count": 5,
   "id": "c9c56d2b",
   "metadata": {},
   "outputs": [],
   "source": [
    "# load IBM Q account:\n",
    "IBMQ.load_account()\n",
    "provider = IBMQ.get_provider(hub='ibm-q', group='open', project='main')\n",
    "\n",
    "# get simulator:\n",
    "qasm_simulator = Aer.get_backend('qasm_simulator') "
   ]
  },
  {
   "cell_type": "markdown",
   "id": "39b4856b",
   "metadata": {},
   "source": [
    "## Experiment A: $Ucz$\n",
    "\n",
    "In our first test, we are going to take a look at this one:\n",
    "\n",
    "![U_cz](./pics/U_cz_matrix.png)\n",
    "\n",
    "Reference: [Building and Programming a Universal Ion Trap Quantum Computer](http://iontrap.umd.edu/wp-content/uploads/2013/10/FiggattThesis.pdf), Chapter 5.9.4: Scrambling Unitary Ucz\n"
   ]
  },
  {
   "cell_type": "markdown",
   "id": "b330145d",
   "metadata": {},
   "source": [
    "Just as we did in our previous demo notebook [Demo_1_ScramblingVerificationTest_Gateset](Demo_1_ScramblingVerificationTest_Gateset.ipynb), we'll again define our experimental variables first (keep in mind, that the size of the operators must match the number of qubits $n$ the scrambler get applied to, in this case three). This time, we only need a list containing the operators we want to use in the scrambler instead of the two list with one-qubit and two-qubit gates in the previous demo notebook."
   ]
  },
  {
   "cell_type": "code",
   "execution_count": 26,
   "id": "b144a077",
   "metadata": {},
   "outputs": [],
   "source": [
    "#############################################################################################\n",
    "########################## DEFINE VARIABLES FOR EXPERIMENTAL SETUP ##########################\n",
    "#############################################################################################\n",
    "\n",
    "reps = 1 # number of repetitions of the unitary\n",
    "\n",
    "n = 3 # size of the scrambling unitary / operator\n",
    "\n",
    "operatorlist = [Ucz_op] # list storing the operators we want to use in our scrambler"
   ]
  },
  {
   "cell_type": "markdown",
   "id": "dfbd9dad",
   "metadata": {},
   "source": [
    "You are save to assume, that you are free to combine gate sets and operators just as you like it in your own version of this experimental setup (as long as you don't forget to pass or instruct them to pich a matching number of qubits in case you want to wild with your combinations).\n",
    "\n",
    "For our experiment right now we are done with setup variables, and can just go ahead by simply running the following cell without any adjustments to get all the lists and variables we need (again just like we did before in the previous demo notebook [Demo_1_ScramblingVerificationTest_Gateset](Demo_1_ScramblingVerificationTest_Gateset.ipynb):"
   ]
  },
  {
   "cell_type": "code",
   "execution_count": 27,
   "id": "e562081d",
   "metadata": {},
   "outputs": [],
   "source": [
    "#############################################################################################\n",
    "########################## STRUCTURE CIRC AND PAIRING #######################################\n",
    "#############################################################################################\n",
    "\n",
    "# num of qubits in circuit = 1 q for bob + n*2\n",
    "qnum = 2*n +1\n",
    "\n",
    "# inums of upper and lower half qubits\n",
    "fst_half, sec_half = fst_n_sec_half_nums(qnum)\n",
    "\n",
    "# initial bell pair inums defining the many-body-system\n",
    "bell_pairs = get_bell_pairs(qnum)\n",
    "\n",
    "# list of all bell pairs that can be used as basemeas pair\n",
    "meas_pairs = [x for x in bell_pairs[:-1]]+[[0,qnum-2]] # replace bob and neighbor with alice and bob neighbor\n",
    "\n",
    "# alice has qubit 0 - bob has qubit with last inum \n",
    "inum_alice, inum_bob = 0, qnum-1\n",
    "\n",
    "# define qubit pair that will be used for base measurement \n",
    "# fist pair in the list is the middle pair (furthes away from bob and alice), but any pair will do\n",
    "basemeas = meas_pairs[0]"
   ]
  },
  {
   "cell_type": "markdown",
   "id": "99d66aa6",
   "metadata": {},
   "source": [
    "Now we are done defining stuff again and can just run the next cell to get our full experimental circuit."
   ]
  },
  {
   "cell_type": "code",
   "execution_count": 28,
   "id": "a0a5a4bc",
   "metadata": {
    "scrolled": false
   },
   "outputs": [
    {
     "data": {
      "image/png": "[encoded data removed]",
      "text/plain": [
       "<Figure size 688.597x505.68 with 1 Axes>"
      ]
     },
     "execution_count": 28,
     "metadata": {},
     "output_type": "execute_result"
    }
   ],
   "source": [
    "#############################################################################################\n",
    "########################## GET SCRAMBLING TEST TELPO CIRC  ##################################\n",
    "#############################################################################################\n",
    "\n",
    "###################################### STEP 1: PREPARATIONS\n",
    "#############################################################################################\n",
    "\n",
    "# initialize circ \n",
    "circ = QuantumCircuit(qnum,qnum)\n",
    "\n",
    "# initialize alice qubit in |1> state\n",
    "circ.x(inum_alice)\n",
    "\n",
    "# initialize bell pairs\n",
    "entangle_bell_pairs(circ, bell_pairs)\n",
    "\n",
    "###################################### STEP 2: SCRAMBLING PROTOCOL\n",
    "#############################################################################################\n",
    "\n",
    "# apply the scrambling:\n",
    "rnum = 0\n",
    "while rnum < reps:\n",
    "    apply_operators(circ, operatorlist)\n",
    "    circ.barrier()\n",
    "    rnum +=1\n",
    "    \n",
    "###################################### STEP 3: BASE MEASUREMENT OF BELL PAIR\n",
    "#############################################################################################\n",
    "\n",
    "# disentangle base meas bell pair\n",
    "disentangle_bell_pair(circ, basemeas)\n",
    "\n",
    "###################################### STEP 4: BOB DECODING OF BASE MEASUREMENT\n",
    "#############################################################################################\n",
    "\n",
    "# apply decoding from measurement\n",
    "apply_bob_gates(circ,inum_bob,basemeas)\n",
    "\n",
    "###################################### STEP 5: BOB MEASUREMENT\n",
    "#############################################################################################\n",
    "\n",
    "# measure bob qubit\n",
    "circ.measure(inum_bob,inum_bob)\n",
    "\n",
    "#############################################################################################\n",
    "# see circ\n",
    "circ.draw('mpl', plot_barriers=False)"
   ]
  },
  {
   "cell_type": "markdown",
   "id": "d8a6c1af",
   "metadata": {},
   "source": [
    "Here we go! let's run it on the simulator!"
   ]
  },
  {
   "cell_type": "code",
   "execution_count": 29,
   "id": "580ebe55",
   "metadata": {},
   "outputs": [
    {
     "name": "stdout",
     "output_type": "stream",
     "text": [
      "\n",
      " Fidelity Bob Qubit:   \t 100.0%\n"
     ]
    },
    {
     "data": {
      "image/png": "[encoded data removed]",
      "text/plain": [
       "<Figure size 504x360 with 1 Axes>"
      ]
     },
     "execution_count": 29,
     "metadata": {},
     "output_type": "execute_result"
    }
   ],
   "source": [
    "###################################### STEP 6: RUN ON SIMULATOR\n",
    "#############################################################################################\n",
    "\n",
    "# choose simulator \n",
    "be = qasm_simulator\n",
    "\n",
    "# run on simulator \n",
    "shots = 1000\n",
    "t_qc = transpile(circ, be)\n",
    "qobj = assemble(t_qc, shots=shots)\n",
    "result = be.run(qobj).result()\n",
    "\n",
    "###################################### STEP 7: SEE SIMULATOR RESULTS FOR FIDELITY\n",
    "#############################################################################################\n",
    "\n",
    "# see fidelity\n",
    "bob_1 = sum([v for (k,v) in result.get_counts().items() if k[0]== \"1\"])\n",
    "bob_0 = sum([v for (k,v) in result.get_counts().items() if k[0]== \"0\"])\n",
    "print(\"\\n Fidelity Bob Qubit:   \\t {}%\".format(100*round(bob_1/(bob_1+bob_0),3)))\n",
    "fid_dict = {\"1\":bob_1,\"0\":bob_0} # dict for hist plot\n",
    "plot_histogram(fid_dict)"
   ]
  },
  {
   "cell_type": "markdown",
   "id": "81f8ae96",
   "metadata": {},
   "source": [
    "#### Let's quickly do one more run of this experiment, but this time with two applications of the operator:"
   ]
  },
  {
   "cell_type": "code",
   "execution_count": 41,
   "id": "ebc3ccd4",
   "metadata": {
    "scrolled": false
   },
   "outputs": [
    {
     "name": "stdout",
     "output_type": "stream",
     "text": [
      "\n",
      " Fidelity Bob Qubit:   \t 49.4%\n"
     ]
    },
    {
     "data": {
      "image/png": "[encoded data removed]",
      "text/plain": [
       "<Figure size 504x360 with 1 Axes>"
      ]
     },
     "execution_count": 41,
     "metadata": {},
     "output_type": "execute_result"
    }
   ],
   "source": [
    "#############################################################################################\n",
    "########################## DEFINE VARIABLES FOR EXPERIMENTAL SETUP ##########################\n",
    "#############################################################################################\n",
    "\n",
    "reps = 2 # number of repetitions of the unitary\n",
    "\n",
    "n = 3 # size of the scrambling unitary / operator\n",
    "\n",
    "operatorlist = [Ucz_op] # list storing the operators we want to use in our scrambler\n",
    "\n",
    "#############################################################################################\n",
    "########################## STRUCTURE CIRC AND PAIRING #######################################\n",
    "#############################################################################################\n",
    "\n",
    "# num of qubits in circuit = 1 q for bob + n*2\n",
    "qnum = 2*n +1\n",
    "\n",
    "# inums of upper and lower half qubits\n",
    "fst_half, sec_half = fst_n_sec_half_nums(qnum)\n",
    "\n",
    "# initial bell pair inums defining the many-body-system\n",
    "bell_pairs = get_bell_pairs(qnum)\n",
    "\n",
    "# list of all bell pairs that can be used as basemeas pair\n",
    "meas_pairs = [x for x in bell_pairs[:-1]]+[[0,qnum-2]] # replace bob and neighbor with alice and bob neighbor\n",
    "\n",
    "# alice has qubit 0 - bob has qubit with last inum \n",
    "inum_alice, inum_bob = 0, qnum-1\n",
    "\n",
    "# define qubit pair that will be used for base measurement \n",
    "# fist pair in the list is the middle pair (furthes away from bob and alice), but any pair will do\n",
    "basemeas = meas_pairs[0]\n",
    "\n",
    "#############################################################################################\n",
    "########################## GET SCRAMBLING TEST TELPO CIRC  ##################################\n",
    "#############################################################################################\n",
    "\n",
    "###################################### STEP 1: PREPARATIONS\n",
    "#############################################################################################\n",
    "\n",
    "# initialize circ \n",
    "circ = QuantumCircuit(qnum,qnum)\n",
    "\n",
    "# initialize alice qubit in |1> state\n",
    "circ.x(inum_alice)\n",
    "\n",
    "# initialize bell pairs\n",
    "entangle_bell_pairs(circ, bell_pairs)\n",
    "\n",
    "###################################### STEP 2: SCRAMBLING PROTOCOL\n",
    "#############################################################################################\n",
    "\n",
    "# apply the scrambling:\n",
    "rnum = 0\n",
    "while rnum < reps:\n",
    "    apply_operators(circ, operatorlist)\n",
    "    circ.barrier()\n",
    "    rnum +=1\n",
    "    \n",
    "###################################### STEP 3: BASE MEASUREMENT OF BELL PAIR\n",
    "#############################################################################################\n",
    "\n",
    "# disentangle base meas bell pair\n",
    "disentangle_bell_pair(circ, basemeas)\n",
    "\n",
    "###################################### STEP 4: BOB DECODING OF BASE MEASUREMENT\n",
    "#############################################################################################\n",
    "\n",
    "# apply decoding from measurement\n",
    "apply_bob_gates(circ,inum_bob,basemeas)\n",
    "\n",
    "###################################### STEP 5: BOB MEASUREMENT\n",
    "#############################################################################################\n",
    "\n",
    "# measure bob qubit\n",
    "circ.measure(inum_bob,inum_bob)\n",
    "\n",
    "#############################################################################################\n",
    "# see circ\n",
    "#circ.draw('mpl')\n",
    "\n",
    "###################################### STEP 6: RUN ON SIMULATOR\n",
    "#############################################################################################\n",
    "\n",
    "# choose simulator \n",
    "be = qasm_simulator\n",
    "\n",
    "# run on simulator \n",
    "shots = 1000\n",
    "t_qc = transpile(circ, be)\n",
    "qobj = assemble(t_qc, shots=shots)\n",
    "result = be.run(qobj).result()\n",
    "\n",
    "###################################### STEP 7: SEE SIMULATOR RESULTS FOR FIDELITY\n",
    "#############################################################################################\n",
    "\n",
    "# see fidelity\n",
    "bob_1 = sum([v for (k,v) in result.get_counts().items() if k[0]== \"1\"])\n",
    "bob_0 = sum([v for (k,v) in result.get_counts().items() if k[0]== \"0\"])\n",
    "print(\"\\n Fidelity Bob Qubit:   \\t {}%\".format(100*round(bob_1/(bob_1+bob_0),3)))\n",
    "fid_dict = {\"1\":bob_1,\"0\":bob_0} # dict for hist plot\n",
    "plot_histogram(fid_dict)"
   ]
  },
  {
   "cell_type": "markdown",
   "id": "24070568",
   "metadata": {},
   "source": [
    "Hmm, doesn't this look a lot like what we found in our experiments 1A and 1C [here](Demo_1_ScramblingVerificationTest_Gateset.ipynb)? This may or may not be in interesting lead to follow, anyhow, we are going to stick to the topic of this demo right now! So let's take a look at one more operator:"
   ]
  },
  {
   "cell_type": "markdown",
   "id": "b1925529",
   "metadata": {},
   "source": [
    "# Experiment B: $Us$ \n",
    "\n",
    "This is the operator, we'll use in the scrambler this time:\n",
    "\n",
    "![U_s](./pics/U_s_matrix.jpg)\n",
    "\n",
    "\n",
    "Reference: [Building and Programming a Universal Ion Trap Quantum Computer](http://iontrap.umd.edu/wp-content/uploads/2013/10/FiggattThesis.pdf), Chapter 5.9.3: Scrambling Unitary Us\n"
   ]
  },
  {
   "cell_type": "markdown",
   "id": "446b3c05",
   "metadata": {},
   "source": [
    "The general experimental setup won't change much, we'll put this operator into our operator list instead of the last one. \n",
    "Then we can directly run the experiment to get get the scrambling propertiy in terms of teleportation fidelity."
   ]
  },
  {
   "cell_type": "code",
   "execution_count": 36,
   "id": "7085869b",
   "metadata": {
    "scrolled": false
   },
   "outputs": [
    {
     "name": "stdout",
     "output_type": "stream",
     "text": [
      "\n",
      " Fidelity Bob Qubit:   \t 50.7%\n"
     ]
    },
    {
     "data": {
      "image/png": "[encoded data removed]",
      "text/plain": [
       "<Figure size 504x360 with 1 Axes>"
      ]
     },
     "execution_count": 36,
     "metadata": {},
     "output_type": "execute_result"
    }
   ],
   "source": [
    "#############################################################################################\n",
    "########################## DEFINE VARIABLES FOR EXPERIMENTAL SETUP ##########################\n",
    "#############################################################################################\n",
    "\n",
    "reps = 1 # number of repetitions of the unitary\n",
    "\n",
    "n = 3 # size of the scrambling unitary / operator\n",
    "\n",
    "operatorlist = [Us_op] # list storing the operators we want to use in our scrambler\n",
    "\n",
    "#############################################################################################\n",
    "########################## STRUCTURE CIRC AND PAIRING #######################################\n",
    "#############################################################################################\n",
    "\n",
    "# num of qubits in circuit = 1 q for bob + n*2\n",
    "qnum = 2*n +1\n",
    "\n",
    "# inums of upper and lower half qubits\n",
    "fst_half, sec_half = fst_n_sec_half_nums(qnum)\n",
    "\n",
    "# initial bell pair inums defining the many-body-system\n",
    "bell_pairs = get_bell_pairs(qnum)\n",
    "\n",
    "# list of all bell pairs that can be used as basemeas pair\n",
    "meas_pairs = [x for x in bell_pairs[:-1]]+[[0,qnum-2]] # replace bob and neighbor with alice and bob neighbor\n",
    "\n",
    "# alice has qubit 0 - bob has qubit with last inum \n",
    "inum_alice, inum_bob = 0, qnum-1\n",
    "\n",
    "# define qubit pair that will be used for base measurement \n",
    "# fist pair in the list is the middle pair (furthes away from bob and alice), but any pair will do\n",
    "basemeas = meas_pairs[0]\n",
    "\n",
    "#############################################################################################\n",
    "########################## GET SCRAMBLING TEST TELPO CIRC  ##################################\n",
    "#############################################################################################\n",
    "\n",
    "###################################### STEP 1: PREPARATIONS\n",
    "#############################################################################################\n",
    "\n",
    "# initialize circ \n",
    "circ = QuantumCircuit(qnum,qnum)\n",
    "\n",
    "# initialize alice qubit in |1> state\n",
    "circ.x(inum_alice)\n",
    "\n",
    "# initialize bell pairs\n",
    "entangle_bell_pairs(circ, bell_pairs)\n",
    "\n",
    "###################################### STEP 2: SCRAMBLING PROTOCOL\n",
    "#############################################################################################\n",
    "\n",
    "# apply the scrambling:\n",
    "rnum = 0\n",
    "while rnum < reps:\n",
    "    apply_operators(circ, operatorlist)\n",
    "    circ.barrier()\n",
    "    rnum +=1\n",
    "    \n",
    "###################################### STEP 3: BASE MEASUREMENT OF BELL PAIR\n",
    "#############################################################################################\n",
    "\n",
    "# disentangle base meas bell pair\n",
    "disentangle_bell_pair(circ, basemeas)\n",
    "\n",
    "###################################### STEP 4: BOB DECODING OF BASE MEASUREMENT\n",
    "#############################################################################################\n",
    "\n",
    "# apply decoding from measurement\n",
    "apply_bob_gates(circ,inum_bob,basemeas)\n",
    "\n",
    "###################################### STEP 5: BOB MEASUREMENT\n",
    "#############################################################################################\n",
    "\n",
    "# measure bob qubit\n",
    "circ.measure(inum_bob,inum_bob)\n",
    "\n",
    "#############################################################################################\n",
    "# see circ\n",
    "#circ.draw('mpl')\n",
    "\n",
    "###################################### STEP 6: RUN ON SIMULATOR\n",
    "#############################################################################################\n",
    "\n",
    "# choose simulator \n",
    "be = qasm_simulator\n",
    "\n",
    "# run on simulator \n",
    "shots = 1000\n",
    "t_qc = transpile(circ, be)\n",
    "qobj = assemble(t_qc, shots=shots)\n",
    "result = be.run(qobj).result()\n",
    "\n",
    "###################################### STEP 7: SEE SIMULATOR RESULTS FOR FIDELITY\n",
    "#############################################################################################\n",
    "\n",
    "# see fidelity\n",
    "bob_1 = sum([v for (k,v) in result.get_counts().items() if k[0]== \"1\"])\n",
    "bob_0 = sum([v for (k,v) in result.get_counts().items() if k[0]== \"0\"])\n",
    "print(\"\\n Fidelity Bob Qubit:   \\t {}%\".format(100*round(bob_1/(bob_1+bob_0),3)))\n",
    "fid_dict = {\"1\":bob_1,\"0\":bob_0} # dict for hist plot\n",
    "plot_histogram(fid_dict)"
   ]
  },
  {
   "cell_type": "markdown",
   "id": "2b4dda5c",
   "metadata": {},
   "source": [
    "#### Have fun scrambling!"
   ]
  }
 ],
 "metadata": {
  "kernelspec": {
   "display_name": "metal",
   "language": "python",
   "name": "metal"
  },
  "language_info": {
   "codemirror_mode": {
    "name": "ipython",
    "version": 3
   },
   "file_extension": ".py",
   "mimetype": "text/x-python",
   "name": "python",
   "nbconvert_exporter": "python",
   "pygments_lexer": "ipython3",
   "version": "3.7.8"
  }
 },
 "nbformat": 4,
 "nbformat_minor": 5
}
