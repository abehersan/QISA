{
 "cells": [
  {
   "cell_type": "markdown",
   "id": "6f5b3dd2",
   "metadata": {},
   "source": [
    "# Tunable Scrambling Circuit\n",
    "\n",
    "Reference: Verified Quantum Information Scrambling https://arxiv.org/abs/1806.02807\n",
    "\n",
    "![paper](./pics/Telpo1_Tunable_Scrambling_Circ.jpg)\n",
    "\n",
    "![experiment](./pics/Telpo2_Tunable_Scrambling_Circ.jpg)\n",
    "\n",
    "Tunable Circ:\n",
    "\n",
    "![tunable](./pics/Telpo3_Tunable_Scrambling_Circ.jpg)\n",
    "\n",
    "From Scrambling Library\n",
    "![tunablegrover](./pics/Tunable_Scrambling_Grover_Circ.jpg)"
   ]
  },
  {
   "cell_type": "markdown",
   "id": "4f8b5af9",
   "metadata": {},
   "source": [
    "# Implementation with CZ and RX Gates\n",
    "\n",
    "To make this protocol more hardware efficient, we adapted the method depicted above. Instead of XX Gates, we are using CZ gates as entangling gates, and single-qubit-rotations around the x-axis instead the z-axis.\n",
    "\n",
    "This adaption of the scrambler uses two layers of two-qubit gates and one layer of single-qubit-rotation gates.\n"
   ]
  },
  {
   "cell_type": "code",
   "execution_count": 2,
   "id": "f59f86d0",
   "metadata": {},
   "outputs": [],
   "source": [
    "# general imports:\n",
    "%matplotlib inline\n",
    "import matplotlib, qiskit, pprint, itertools\n",
    "from matplotlib import pyplot as plt\n",
    "import numpy as np\n",
    "from numpy import pi\n",
    "from qiskit import QuantumRegister, ClassicalRegister, QuantumCircuit, Aer, IBMQ, transpile, schedule, assemble\n",
    "from qiskit.circuit import *\n",
    "from qiskit.circuit.library.standard_gates import *\n",
    "from qiskit.providers.aer import QasmSimulator\n",
    "from qiskit.test.mock import FakeAlmaden, FakeMelbourne\n",
    "from qiskit.visualization import *\n",
    "from qiskit.circuit.library import *"
   ]
  },
  {
   "cell_type": "code",
   "execution_count": 3,
   "id": "f2bd0010",
   "metadata": {},
   "outputs": [],
   "source": [
    "# import utils for Quantum Information Scrambling Verification Test:\n",
    "from QSVT_utils import *"
   ]
  },
  {
   "cell_type": "code",
   "execution_count": 4,
   "id": "4a2b6767",
   "metadata": {},
   "outputs": [],
   "source": [
    "# load account:\n",
    "IBMQ.load_account()\n",
    "provider = IBMQ.get_provider(hub='ibm-q', group='open', project='main')\n",
    "\n",
    "# get simulators:\n",
    "f_alma = FakeAlmaden() # simulator f_alma for pulse schedules\n",
    "f_mel = FakeMelbourne() # simulator f_mel for simulator backend mel\n",
    "qasm_simulator = Aer.get_backend('qasm_simulator') "
   ]
  },
  {
   "cell_type": "markdown",
   "id": "976c9cee",
   "metadata": {},
   "source": [
    "# Step 1: Preparations\n",
    "\n",
    "\n",
    "Before we go ahead and make our actual tunable scrambling circuit, we are going to prepare ourselfs some handy lists and variables to store qubit indexnumbers based on the number of qubits we set $n$ as the size of the scrambling unitary we'd like to use. \n",
    "\n",
    "For this example, let's set $n = 3$:"
   ]
  },
  {
   "cell_type": "code",
   "execution_count": 32,
   "id": "d25024a7",
   "metadata": {},
   "outputs": [],
   "source": [
    "#############################################################################################\n",
    "########################## STRUCTURE CIRC AND PAIRING #######################################\n",
    "#############################################################################################\n",
    "\n",
    "# num of qubits scrambling unitary operates on\n",
    "n = 3"
   ]
  },
  {
   "cell_type": "markdown",
   "id": "b8f657d8",
   "metadata": {},
   "source": [
    "In the QSVT_utils module you can find some functions to return you lists with the qubit indexnumbers that will be used for one-qubit gates and nested list containing the indexnumbers of qubits pairs, the two-qubit gates will be applied to in the scrambling process.\n",
    "\n",
    "Of course, you can define your own lists instead, for example, if you'd like to use a specific transpiler, mapping, or simply want to mess around a little bit and insert your very personal chaos into your experimental setup 😉\n",
    "\n",
    "We are going to run our demonstration experiments on the QasmSimulator, and just go ahead with the list and variables we will get just by running this cell without any adjustments:"
   ]
  },
  {
   "cell_type": "code",
   "execution_count": 33,
   "id": "a2a19f19",
   "metadata": {},
   "outputs": [],
   "source": [
    "# num of qubits in circuit (must be twice the size of the scrambling unitery size n plus one extra qubit for bob) \n",
    "qnum = 2*n +1\n",
    "\n",
    "# lists with inums of upper and lower half qubits (will be used for one q gates in the scrambler)\n",
    "fst_half, sec_half = fst_n_sec_half_nums(qnum)\n",
    "\n",
    "# nested list with inums of bell pair defining the many-body-system \n",
    "bell_pairs = get_bell_pairs(qnum)\n",
    "\n",
    "# nested lists with inums of all bell pairs, that can be used as basemeas pair\n",
    "meas_pairs = [x for x in bell_pairs[:-1]]+[[0,qnum-2]] # replace bob and neighbor with alice and bob neighbor\n",
    "\n",
    "# get pairs for two-qubit gates in scrambling protocol\n",
    "upper_pairs, lower_pairs = get_unitary_pairs(qnum)\n",
    "\n",
    "# actually for the tunable scrambler we can put all the two-q-gate inmus in one list, as we only apply CZ gates\n",
    "two_q_gate_pairs_in_scrambler = upper_pairs+lower_pairs\n",
    "\n",
    "# alice gets qubit inum 0, bob gets the qubit with highest inum \n",
    "inum_alice, inum_bob = 0, qnum-1"
   ]
  },
  {
   "cell_type": "markdown",
   "id": "5dad184f",
   "metadata": {},
   "source": [
    "Awesome! Now there is just one last variable we are going the define before initializing our circuit. That's the bell pair we'd like to use for the last step in the protocol: bell measurement and conditional decoding.\n",
    "\n",
    "Here, we'll go with the bell pairs having the indexnumbers furthes away from the indexnumbers we defined for Alice and Bob. To get them, we can just take the first item of the nested list called meas_pairs (because the structuring functions in QSVT_utils follow a layering procedure starting with medial indexnumbers of the \"Butterfly\" EPR pair).\n",
    "\n",
    "Any of the EPR pair should give you the very same results though (amongs other things, that fact also provides you with some handy options for quick sanity checks of your own indexnumber variables and lists by the way, e.g. if you choose to hand code them)."
   ]
  },
  {
   "cell_type": "code",
   "execution_count": 34,
   "id": "e2806ae9",
   "metadata": {},
   "outputs": [],
   "source": [
    "# variable qubit pair that will be used for base measurement (any pair will do)\n",
    "# here: fist pair in the list is the middle pair (furthes away from bob and alice)\n",
    "basemeas = meas_pairs[0]"
   ]
  },
  {
   "cell_type": "markdown",
   "id": "ae6f8c4c",
   "metadata": {},
   "source": [
    "Now we are done with the preparations and get rolling with our first tuned scrambling experiment!"
   ]
  },
  {
   "cell_type": "markdown",
   "id": "8cf285e7",
   "metadata": {},
   "source": [
    "## Experiment A: $\\alpha = +1$\n",
    "\n",
    "We will start with $\\alpha = +1$, expecting to get 100% teleportation fidelity. All we need to do, is define this tuning parameter as such:"
   ]
  },
  {
   "cell_type": "code",
   "execution_count": 58,
   "id": "b8237b32",
   "metadata": {},
   "outputs": [],
   "source": [
    "# set the desired fidelity (1 means 100% teleportation fidelity)\n",
    "alpha = 1"
   ]
  },
  {
   "cell_type": "markdown",
   "id": "4202b76b",
   "metadata": {},
   "source": [
    "Tuning the scrambling properties, actually means, we are going to detune the angles of the one qubits gates in the transposed scrambler (e.g. on the qubits with indexnumbers previously stored in the list called sec_half) from the remaining ones.\n",
    "\n",
    "A perfect fidelity is expected, with all the angles $\\theta$ within our scrambler are set to: \n",
    "\n",
    "$$\n",
    "\\theta = \\frac{\\pi}{2}\n",
    "$$\n",
    "\n",
    "\n",
    "Where the general equation reads:\n",
    "\n",
    "$$\n",
    "\\theta = \\frac{\\alpha \\pi}{2}\n",
    "$$\n",
    "\n",
    "A function to return us the angles based on the alpha we pass it, is also implemented in QSVT_utils, so all we need to do is run the following cell:"
   ]
  },
  {
   "cell_type": "code",
   "execution_count": 59,
   "id": "56dde819",
   "metadata": {},
   "outputs": [],
   "source": [
    "# we need to different thetas in order to programm detuning, \n",
    "# here theta will be the angle corresponding to full fidelity alpha=1, \n",
    "# beta will be the detuned version of theta, corresponding on the alpha value we defined\n",
    "\n",
    "theta = get_theta_from_alpha(1) \n",
    "beta = get_theta_from_alpha(alpha)"
   ]
  },
  {
   "cell_type": "markdown",
   "id": "58fc92dd",
   "metadata": {},
   "source": [
    "Finally! Here comes the circuit! Because we already defined everything we need, we now can just run this cell with all the steps needed to setup the circuit for our experiment. Nice! Let's do it and see what our circuit looks like!"
   ]
  },
  {
   "cell_type": "code",
   "execution_count": 60,
   "id": "7c009c72",
   "metadata": {},
   "outputs": [
    {
     "data": {
      "image/png": "[encoded data removed]",
      "text/plain": [
       "<Figure size 989.597x505.68 with 1 Axes>"
      ]
     },
     "execution_count": 60,
     "metadata": {},
     "output_type": "execute_result"
    }
   ],
   "source": [
    "#############################################################################################\n",
    "########################## GET SCRAMBLING TEST TELPO CIRC  ##################################\n",
    "#############################################################################################\n",
    "\n",
    "###################################### STEP 1: PREPARATIONS\n",
    "#############################################################################################\n",
    "\n",
    "circ = QuantumCircuit(qnum,qnum) # initialize circ \n",
    "\n",
    "circ.x(inum_alice) # initialize alice qubit in |1> state\n",
    "\n",
    "entangle_bell_pairs(circ, bell_pairs) # initialize bell pairs\n",
    "\n",
    "###################################### STEP 2: TUNABLE SCRAMBLING PROTOCOL\n",
    "#############################################################################################\n",
    "\n",
    "# first layer of CZ gates in scrambler:\n",
    "for pair in two_q_gate_pairs_in_scrambler:\n",
    "    circ.cz(pair[0],pair[1])\n",
    "\n",
    "circ.barrier()\n",
    "# RX(theta) on qubits with inums between 0 and half size of the full circ (first half)\n",
    "for q in fst_half:\n",
    "    circ.rx(theta,q)\n",
    "\n",
    "# RX(-beta) on qubits with inums between last q and half size of the full circ (second half)\n",
    "for q in sec_half:\n",
    "    circ.rx(-beta,q)\n",
    "\n",
    "# second layer of CZ gates in scrambler:\n",
    "for pair in two_q_gate_pairs_in_scrambler:\n",
    "    circ.cz(pair[0],pair[1])\n",
    "    \n",
    "circ.barrier()\n",
    "###################################### STEP 3: BASE MEASUREMENT OF BELL PAIR\n",
    "#############################################################################################\n",
    "\n",
    "disentangle_bell_pair(circ, basemeas) # disentangle base meas bell pair\n",
    "\n",
    "###################################### STEP 4: BOB DECODING OF BASE MEASUREMENT\n",
    "#############################################################################################\n",
    "\n",
    "apply_bob_gates(circ,inum_bob,basemeas) # apply decoding from measurement\n",
    "\n",
    "###################################### STEP 5: BOB MEASUREMENT\n",
    "#############################################################################################\n",
    "\n",
    "circ.measure(inum_bob,inum_bob) # measure bob qubit\n",
    "\n",
    "#############################################################################################\n",
    "\n",
    "circ.draw('mpl', plot_barriers=False) # see circ"
   ]
  },
  {
   "cell_type": "markdown",
   "id": "8fb72d9c",
   "metadata": {},
   "source": [
    "Here we see the complete experimental setup. Our hardware efficient implementation only deals with CZ and Ry gates in the scrambler. The first H and CX gates of course are our initial EPR pair entanglements. The X on q0 is just there for demonstration reasons, and the last four sets CX, H, CZ, CX are the EPR measurement, the teleportation decoding of Bob and finaly the measurement on Bob's qubit.\n",
    "\n",
    "Let's run it and see if the fidelity really corresponds the expected 100% teleportation fidelity!"
   ]
  },
  {
   "cell_type": "code",
   "execution_count": 61,
   "id": "c04c5f2a",
   "metadata": {},
   "outputs": [
    {
     "name": "stdout",
     "output_type": "stream",
     "text": [
      "\n",
      " Fidelity Bob Qubit:   \t 100.0%\n"
     ]
    },
    {
     "data": {
      "image/png": "[encoded data removed]",
      "text/plain": [
       "<Figure size 504x360 with 1 Axes>"
      ]
     },
     "execution_count": 61,
     "metadata": {},
     "output_type": "execute_result"
    }
   ],
   "source": [
    "###################################### STEP 6: RUN ON SIMULATOR\n",
    "#############################################################################################\n",
    "\n",
    "# choose simulator \n",
    "be = qasm_simulator\n",
    "\n",
    "# run on simulator \n",
    "shots = 1000\n",
    "t_qc = transpile(circ, be)\n",
    "qobj = assemble(t_qc, shots=shots)\n",
    "result = be.run(qobj).result()\n",
    "\n",
    "###################################### STEP 7: SEE SIMULATOR RESULTS FOR FIDELITY\n",
    "#############################################################################################\n",
    "\n",
    "# see fidelity\n",
    "bob_1 = sum([v for (k,v) in result.get_counts().items() if k[0]== \"1\"])\n",
    "bob_0 = sum([v for (k,v) in result.get_counts().items() if k[0]== \"0\"])\n",
    "print(\"\\n Fidelity Bob Qubit:   \\t {}%\".format(100*round(bob_1/(bob_1+bob_0),3)))\n",
    "fid_dict = {\"1\":bob_1,\"0\":bob_0} # dict for hist plot\n",
    "plot_histogram(fid_dict)"
   ]
  },
  {
   "cell_type": "markdown",
   "id": "8290a522",
   "metadata": {},
   "source": [
    "**Perfect! Just as we expected!**\n",
    "\n",
    "Now let's test some more different alpha values and see how the fidelity turns out. "
   ]
  },
  {
   "cell_type": "markdown",
   "id": "85bb2615",
   "metadata": {},
   "source": [
    "# Experiment B: alpha = -1"
   ]
  },
  {
   "cell_type": "code",
   "execution_count": 54,
   "id": "3ee09774",
   "metadata": {},
   "outputs": [
    {
     "name": "stdout",
     "output_type": "stream",
     "text": [
      "\n",
      " Fidelity Bob Qubit:   \t 0.0%\n"
     ]
    },
    {
     "data": {
      "image/png": "[encoded data removed]",
      "text/plain": [
       "<Figure size 504x360 with 1 Axes>"
      ]
     },
     "execution_count": 54,
     "metadata": {},
     "output_type": "execute_result"
    }
   ],
   "source": [
    "#############################################################################################\n",
    "########################## GET SCRAMBLING TEST TELPO CIRC  ##################################\n",
    "#############################################################################################\n",
    "\n",
    "# set the desired fidelity (-1 means 0% teleportation fidelity)\n",
    "alpha = -1\n",
    "\n",
    "# get the corresponding angles for alpha value: \n",
    "\n",
    "theta = get_theta_from_alpha(1)\n",
    "beta = get_theta_from_alpha(alpha)\n",
    "\n",
    "###################################### STEP 1: PREPARATIONS\n",
    "#############################################################################################\n",
    "\n",
    "circ = QuantumCircuit(qnum,qnum) # initialize circ \n",
    "\n",
    "circ.x(inum_alice) # initialize alice qubit in |1> state\n",
    "\n",
    "entangle_bell_pairs(circ, bell_pairs) # initialize bell pairs\n",
    "\n",
    "###################################### STEP 2: TUNABLE SCRAMBLING PROTOCOL\n",
    "#############################################################################################\n",
    "\n",
    "# first layer of CZ gates in scrambler:\n",
    "for pair in two_q_gate_pairs_in_scrambler:\n",
    "    circ.cz(pair[0],pair[1])\n",
    "\n",
    "circ.barrier()\n",
    "# RX(theta) on qubits with inums between 0 and half size of the full circ (first half)\n",
    "for q in fst_half:\n",
    "    circ.rx(theta,q)\n",
    "\n",
    "# RX(-beta) on qubits with inums between last q and half size of the full circ (second half)\n",
    "for q in sec_half:\n",
    "    circ.rx(-beta,q)\n",
    "\n",
    "# second layer of CZ gates in scrambler:\n",
    "for pair in two_q_gate_pairs_in_scrambler:\n",
    "    circ.cz(pair[0],pair[1])\n",
    "    \n",
    "circ.barrier()\n",
    "###################################### STEP 3: BASE MEASUREMENT OF BELL PAIR\n",
    "#############################################################################################\n",
    "\n",
    "disentangle_bell_pair(circ, basemeas) # disentangle base meas bell pair\n",
    "\n",
    "###################################### STEP 4: BOB DECODING OF BASE MEASUREMENT\n",
    "#############################################################################################\n",
    "\n",
    "apply_bob_gates(circ,inum_bob,basemeas) # apply decoding from measurement\n",
    "\n",
    "###################################### STEP 5: BOB MEASUREMENT\n",
    "#############################################################################################\n",
    "\n",
    "circ.measure(inum_bob,inum_bob) # measure bob qubit\n",
    "\n",
    "#############################################################################################\n",
    "\n",
    "#circ.draw('mpl') # see circ\n",
    "\n",
    "###################################### STEP 6: RUN ON SIMULATOR\n",
    "#############################################################################################\n",
    "\n",
    "# choose simulator \n",
    "be = qasm_simulator\n",
    "\n",
    "# run on simulator \n",
    "shots = 1000\n",
    "t_qc = transpile(circ, be)\n",
    "qobj = assemble(t_qc, shots=shots)\n",
    "result = be.run(qobj).result()\n",
    "\n",
    "###################################### STEP 7: SEE SIMULATOR RESULTS FOR FIDELITY\n",
    "#############################################################################################\n",
    "\n",
    "# see fidelity\n",
    "bob_1 = sum([v for (k,v) in result.get_counts().items() if k[0]== \"1\"])\n",
    "bob_0 = sum([v for (k,v) in result.get_counts().items() if k[0]== \"0\"])\n",
    "print(\"\\n Fidelity Bob Qubit:   \\t {}%\".format(100*round(bob_1/(bob_1+bob_0),3)))\n",
    "fid_dict = {\"1\":bob_1,\"0\":bob_0} # dict for hist plot\n",
    "plot_histogram(fid_dict)"
   ]
  },
  {
   "cell_type": "markdown",
   "id": "0612c016",
   "metadata": {},
   "source": [
    "# Experiment C: alpha = 0"
   ]
  },
  {
   "cell_type": "code",
   "execution_count": 56,
   "id": "25d288f5",
   "metadata": {},
   "outputs": [
    {
     "name": "stdout",
     "output_type": "stream",
     "text": [
      "\n",
      " Fidelity Bob Qubit:   \t 51.5%\n"
     ]
    },
    {
     "data": {
      "image/png": "[encoded data removed]",
      "text/plain": [
       "<Figure size 504x360 with 1 Axes>"
      ]
     },
     "execution_count": 56,
     "metadata": {},
     "output_type": "execute_result"
    }
   ],
   "source": [
    "#############################################################################################\n",
    "########################## GET SCRAMBLING TEST TELPO CIRC  ##################################\n",
    "#############################################################################################\n",
    "\n",
    "# set the desired fidelity (-1 means 0% teleportation fidelity)\n",
    "alpha = 0\n",
    "\n",
    "# get the corresponding angles for alpha value: \n",
    "\n",
    "theta = get_theta_from_alpha(1)\n",
    "beta = get_theta_from_alpha(alpha)\n",
    "\n",
    "###################################### STEP 1: PREPARATIONS\n",
    "#############################################################################################\n",
    "\n",
    "circ = QuantumCircuit(qnum,qnum) # initialize circ \n",
    "\n",
    "circ.x(inum_alice) # initialize alice qubit in |1> state\n",
    "\n",
    "entangle_bell_pairs(circ, bell_pairs) # initialize bell pairs\n",
    "\n",
    "###################################### STEP 2: TUNABLE SCRAMBLING PROTOCOL\n",
    "#############################################################################################\n",
    "\n",
    "# first layer of CZ gates in scrambler:\n",
    "for pair in two_q_gate_pairs_in_scrambler:\n",
    "    circ.cz(pair[0],pair[1])\n",
    "\n",
    "circ.barrier()\n",
    "# RX(theta) on qubits with inums between 0 and half size of the full circ (first half)\n",
    "for q in fst_half:\n",
    "    circ.rx(theta,q)\n",
    "\n",
    "# RX(-beta) on qubits with inums between last q and half size of the full circ (second half)\n",
    "for q in sec_half:\n",
    "    circ.rx(-beta,q)\n",
    "\n",
    "# second layer of CZ gates in scrambler:\n",
    "for pair in two_q_gate_pairs_in_scrambler:\n",
    "    circ.cz(pair[0],pair[1])\n",
    "    \n",
    "circ.barrier()\n",
    "###################################### STEP 3: BASE MEASUREMENT OF BELL PAIR\n",
    "#############################################################################################\n",
    "\n",
    "disentangle_bell_pair(circ, basemeas) # disentangle base meas bell pair\n",
    "\n",
    "###################################### STEP 4: BOB DECODING OF BASE MEASUREMENT\n",
    "#############################################################################################\n",
    "\n",
    "apply_bob_gates(circ,inum_bob,basemeas) # apply decoding from measurement\n",
    "\n",
    "###################################### STEP 5: BOB MEASUREMENT\n",
    "#############################################################################################\n",
    "\n",
    "circ.measure(inum_bob,inum_bob) # measure bob qubit\n",
    "\n",
    "#############################################################################################\n",
    "#circ.draw('mpl') # see circ\n",
    "\n",
    "###################################### STEP 6: RUN ON SIMULATOR\n",
    "#############################################################################################\n",
    "\n",
    "# choose simulator \n",
    "be = qasm_simulator\n",
    "\n",
    "# run on simulator \n",
    "shots = 1000\n",
    "t_qc = transpile(circ, be)\n",
    "qobj = assemble(t_qc, shots=shots)\n",
    "result = be.run(qobj).result()\n",
    "\n",
    "###################################### STEP 7: SEE SIMULATOR RESULTS FOR FIDELITY\n",
    "#############################################################################################\n",
    "\n",
    "# see fidelity\n",
    "bob_1 = sum([v for (k,v) in result.get_counts().items() if k[0]== \"1\"])\n",
    "bob_0 = sum([v for (k,v) in result.get_counts().items() if k[0]== \"0\"])\n",
    "print(\"\\n Fidelity Bob Qubit:   \\t {}%\".format(100*round(bob_1/(bob_1+bob_0),3)))\n",
    "fid_dict = {\"1\":bob_1,\"0\":bob_0} # dict for hist plot\n",
    "plot_histogram(fid_dict)"
   ]
  },
  {
   "cell_type": "markdown",
   "id": "a79fc8d7",
   "metadata": {},
   "source": [
    "# Experiment D: alpha = 0.25\n",
    "\n",
    "Let's also pick some arbitrary alpha value. For example 0.25:"
   ]
  },
  {
   "cell_type": "code",
   "execution_count": 57,
   "id": "a68c88f4",
   "metadata": {},
   "outputs": [
    {
     "name": "stdout",
     "output_type": "stream",
     "text": [
      "\n",
      " Fidelity Bob Qubit:   \t 70.39999999999999%\n"
     ]
    },
    {
     "data": {
      "image/png": "[encoded data removed]",
      "text/plain": [
       "<Figure size 504x360 with 1 Axes>"
      ]
     },
     "execution_count": 57,
     "metadata": {},
     "output_type": "execute_result"
    }
   ],
   "source": [
    "#############################################################################################\n",
    "########################## GET SCRAMBLING TEST TELPO CIRC  ##################################\n",
    "#############################################################################################\n",
    "\n",
    "# set the desired fidelity (-1 means 0% teleportation fidelity)\n",
    "alpha = 0.25\n",
    "\n",
    "# get the corresponding angles for alpha value: \n",
    "\n",
    "theta = get_theta_from_alpha(1)\n",
    "beta = get_theta_from_alpha(alpha)\n",
    "\n",
    "###################################### STEP 1: PREPARATIONS\n",
    "#############################################################################################\n",
    "\n",
    "circ = QuantumCircuit(qnum,qnum) # initialize circ \n",
    "\n",
    "circ.x(inum_alice) # initialize alice qubit in |1> state\n",
    "\n",
    "entangle_bell_pairs(circ, bell_pairs) # initialize bell pairs\n",
    "\n",
    "###################################### STEP 2: TUNABLE SCRAMBLING PROTOCOL\n",
    "#############################################################################################\n",
    "\n",
    "# first layer of CZ gates in scrambler:\n",
    "for pair in two_q_gate_pairs_in_scrambler:\n",
    "    circ.cz(pair[0],pair[1])\n",
    "\n",
    "circ.barrier()\n",
    "# RX(theta) on qubits with inums between 0 and half size of the full circ (first half)\n",
    "for q in fst_half:\n",
    "    circ.rx(theta,q)\n",
    "\n",
    "# RX(-beta) on qubits with inums between last q and half size of the full circ (second half)\n",
    "for q in sec_half:\n",
    "    circ.rx(-beta,q)\n",
    "\n",
    "# second layer of CZ gates in scrambler:\n",
    "for pair in two_q_gate_pairs_in_scrambler:\n",
    "    circ.cz(pair[0],pair[1])\n",
    "    \n",
    "circ.barrier()\n",
    "###################################### STEP 3: BASE MEASUREMENT OF BELL PAIR\n",
    "#############################################################################################\n",
    "\n",
    "disentangle_bell_pair(circ, basemeas) # disentangle base meas bell pair\n",
    "\n",
    "###################################### STEP 4: BOB DECODING OF BASE MEASUREMENT\n",
    "#############################################################################################\n",
    "\n",
    "apply_bob_gates(circ,inum_bob,basemeas) # apply decoding from measurement\n",
    "\n",
    "###################################### STEP 5: BOB MEASUREMENT\n",
    "#############################################################################################\n",
    "\n",
    "circ.measure(inum_bob,inum_bob) # measure bob qubit\n",
    "\n",
    "#############################################################################################\n",
    "\n",
    "#circ.draw('mpl') # see circ\n",
    "\n",
    "###################################### STEP 6: RUN ON SIMULATOR\n",
    "#############################################################################################\n",
    "\n",
    "# choose simulator \n",
    "be = qasm_simulator\n",
    "\n",
    "# run on simulator \n",
    "shots = 1000\n",
    "t_qc = transpile(circ, be)\n",
    "qobj = assemble(t_qc, shots=shots)\n",
    "result = be.run(qobj).result()\n",
    "\n",
    "###################################### STEP 7: SEE SIMULATOR RESULTS FOR FIDELITY\n",
    "#############################################################################################\n",
    "\n",
    "# see fidelity\n",
    "bob_1 = sum([v for (k,v) in result.get_counts().items() if k[0]== \"1\"])\n",
    "bob_0 = sum([v for (k,v) in result.get_counts().items() if k[0]== \"0\"])\n",
    "print(\"\\n Fidelity Bob Qubit:   \\t {}%\".format(100*round(bob_1/(bob_1+bob_0),3)))\n",
    "fid_dict = {\"1\":bob_1,\"0\":bob_0} # dict for hist plot\n",
    "plot_histogram(fid_dict)"
   ]
  },
  {
   "cell_type": "code",
   "execution_count": null,
   "id": "dede2ca5",
   "metadata": {},
   "outputs": [],
   "source": []
  }
 ],
 "metadata": {
  "kernelspec": {
   "display_name": "metal",
   "language": "python",
   "name": "metal"
  },
  "language_info": {
   "codemirror_mode": {
    "name": "ipython",
    "version": 3
   },
   "file_extension": ".py",
   "mimetype": "text/x-python",
   "name": "python",
   "nbconvert_exporter": "python",
   "pygments_lexer": "ipython3",
   "version": "3.7.8"
  }
 },
 "nbformat": 4,
 "nbformat_minor": 5
}
