{
 "cells": [
  {
   "cell_type": "markdown",
   "id": "cf5736ab",
   "metadata": {},
   "source": [
    "# The Quantum Information Scrambling Verification Test\n"
   ]
  },
  {
   "cell_type": "markdown",
   "id": "31b8def7",
   "metadata": {},
   "source": []
  }
 ],
 "metadata": {
  "kernelspec": {
   "display_name": "metal",
   "language": "python",
   "name": "metal"
  },
  "language_info": {
   "codemirror_mode": {
    "name": "ipython",
    "version": 3
   },
   "file_extension": ".py",
   "mimetype": "text/x-python",
   "name": "python",
   "nbconvert_exporter": "python",
   "pygments_lexer": "ipython3",
   "version": "3.7.8"
  }
 },
 "nbformat": 4,
 "nbformat_minor": 5
}
