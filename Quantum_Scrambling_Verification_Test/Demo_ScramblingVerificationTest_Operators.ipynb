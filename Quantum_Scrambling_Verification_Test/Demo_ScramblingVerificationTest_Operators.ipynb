{
 "cells": [
  {
   "cell_type": "markdown",
   "id": "09254b72",
   "metadata": {},
   "source": [
    "# Demo of Scrambling with Operators using the library in operator_3q_lib.py\n",
    "\n",
    "Module with Opertors from \"Quantum Scrambling Library\"\n",
    "\n",
    "Reference: [Building and Programming a Universal Ion Trap Quantum Computer](http://iontrap.umd.edu/wp-content/uploads/2013/10/FiggattThesis.pdf)",
    "**Chapter 5.9.3: Scrambling Unitary Us**"
   ]
  },
  {
   "cell_type": "code",
   "execution_count": 5,
   "id": "3ec0cc39",
   "metadata": {},
   "outputs": [],
   "source": [
    "# general imports:\n",
    "%matplotlib inline\n",
    "import matplotlib, qiskit, pprint, itertools\n",
    "from matplotlib import pyplot as plt\n",
    "import numpy as np\n",
    "from numpy import pi\n",
    "from qiskit import QuantumRegister, ClassicalRegister, QuantumCircuit, Aer, IBMQ, transpile, schedule, assemble\n",
    "from qiskit.circuit import *\n",
    "from qiskit.circuit.library.standard_gates import *\n",
    "from qiskit.providers.aer import QasmSimulator\n",
    "from qiskit.test.mock import FakeAlmaden, FakeMelbourne\n",
    "from qiskit.visualization import *\n",
    "from qiskit.circuit.library import *"
   ]
  },
  {
   "cell_type": "code",
   "execution_count": 6,
   "id": "a52354a5",
   "metadata": {},
   "outputs": [],
   "source": [
    "# import utils for Quantum Information Scrambling Verification Test:\n",
    "from QSVT_utils import *\n",
    "\n",
    "# import 3 qubit operators\n",
    "from operator_3q_lib import *"
   ]
  },
  {
   "cell_type": "code",
   "execution_count": 7,
   "id": "c9c56d2b",
   "metadata": {},
   "outputs": [],
   "source": [
    "# load account:\n",
    "IBMQ.load_account()\n",
    "provider = IBMQ.get_provider(hub='ibm-q', group='open', project='main')\n",
    "\n",
    "# get simulators:\n",
    "f_alma = FakeAlmaden() # simulator f_alma for pulse schedules\n",
    "f_mel = FakeMelbourne() # simulator f_mel for simulator backend mel\n",
    "qasm_simulator = Aer.get_backend('qasm_simulator') "
   ]
  },
  {
   "cell_type": "markdown",
   "id": "39b4856b",
   "metadata": {},
   "source": [
    "# Experiment A: Test of U cz\n",
    "\n",
    "Reference: [Building and Programming a Universal Ion Trap Quantum Computer](http://iontrap.umd.edu/wp-content/uploads/2013/10/FiggattThesis.pdf)",
    "**Chapter 5.9.4: Scrambling Unitary Ucz**",
    "![U_cz](./pics/U_cz.png)\n"
   ]
  },
  {
   "cell_type": "code",
   "execution_count": 15,
   "id": "a0a5a4bc",
   "metadata": {
    "scrolled": true
   },
   "outputs": [
    {
     "data": {
      "image/png": "[encoded data removed]",
      "text/plain": [
       "<Figure size 688.597x505.68 with 1 Axes>"
      ]
     },
     "execution_count": 15,
     "metadata": {},
     "output_type": "execute_result"
    }
   ],
   "source": [
    "#############################################################################################\n",
    "########################## DEFINE VARIABLES FOR EXPERIMENTAL SETUP ##########################\n",
    "#############################################################################################\n",
    "\n",
    "reps = 1 # number of repetitions of the unitary\n",
    "\n",
    "n = 3 # size of the scrambling unitary / operator\n",
    "\n",
    "method = \"operator\" # choose between methods \"gateset\" and \"operator\"\n",
    "\n",
    "###### method 1: \"gateset\" ######\n",
    "# set two and one qubit gates to be used for scrambling\n",
    "two_q_gates, one_q_gates = [], [] # define lists of one and two qubit gates for scrambling\n",
    "\n",
    "###### method 2: \"operator\" ###### \n",
    "# set unitary for n qubits to be used for scrambling\n",
    "operatorlist = [Ucz_op]\n",
    "\n",
    "#############################################################################################\n",
    "########################## STRUCTURE CIRC AND PAIRING #######################################\n",
    "#############################################################################################\n",
    "\n",
    "# num of qubits in circuit = 1 q for bob + n*2\n",
    "qnum = 2*n +1\n",
    "\n",
    "# inums of upper and lower half qubits\n",
    "fst_half, sec_half = fst_n_sec_half_nums(qnum)\n",
    "\n",
    "# initial bell pair inums defining the many-body-system\n",
    "bell_pairs = get_bell_pairs(qnum)\n",
    "\n",
    "# list of all bell pairs that can be used as basemeas pair\n",
    "meas_pairs = [x for x in bell_pairs[:-1]]+[[0,qnum-2]] # replace bob and neighbor with alice and bob neighbor\n",
    "\n",
    "# alice has qubit 0 - bob has qubit with last inum \n",
    "inum_alice, inum_bob = 0, qnum-1\n",
    "\n",
    "# define qubit pair that will be used for base measurement \n",
    "# fist pair in the list is the middle pair (furthes away from bob and alice), but any pair will do\n",
    "basemeas = meas_pairs[0]\n",
    "\n",
    "#############################################################################################\n",
    "########################## GET SCRAMBLING TEST TELPO CIRC  ##################################\n",
    "#############################################################################################\n",
    "\n",
    "###################################### STEP 1: PREPARATIONS\n",
    "#############################################################################################\n",
    "\n",
    "# initialize circ \n",
    "circ = QuantumCircuit(qnum,qnum)\n",
    "\n",
    "# initialize alice qubit in |1> state\n",
    "circ.x(inum_alice)\n",
    "\n",
    "# initialize bell pairs\n",
    "entangle_bell_pairs(circ, bell_pairs)\n",
    "\n",
    "###################################### STEP 2: SCRAMBLING PROTOCOL\n",
    "#############################################################################################\n",
    "\n",
    "# option 1: apply scrambling via gateset \n",
    "if method == \"gateset\":\n",
    "    rnum = 0\n",
    "    while rnum < reps:\n",
    "        apply_gate_set_test(circ, two_q_gates, one_q_gates)\n",
    "        circ.barrier()\n",
    "        rnum +=1\n",
    "\n",
    "# option 2: apply scrambling via unitary: \n",
    "if method == \"operator\":\n",
    "    apply_operators(circ, operatorlist)\n",
    "\n",
    "###################################### STEP 3: BASE MEASUREMENT OF BELL PAIR\n",
    "#############################################################################################\n",
    "\n",
    "# disentangle base meas bell pair\n",
    "disentangle_bell_pair(circ, basemeas)\n",
    "\n",
    "###################################### STEP 4: BOB DECODING OF BASE MEASUREMENT\n",
    "#############################################################################################\n",
    "\n",
    "# apply decoding from measurement\n",
    "apply_bob_gates(circ,inum_bob,basemeas)\n",
    "\n",
    "###################################### STEP 5: BOB MEASUREMENT\n",
    "#############################################################################################\n",
    "\n",
    "# measure bob qubit\n",
    "circ.measure(inum_bob,inum_bob)\n",
    "\n",
    "#############################################################################################\n",
    "# see circ\n",
    "circ.draw('mpl')"
   ]
  },
  {
   "cell_type": "code",
   "execution_count": 16,
   "id": "580ebe55",
   "metadata": {},
   "outputs": [
    {
     "name": "stdout",
     "output_type": "stream",
     "text": [
      "\n",
      " Fidelity Bob Qubit:   \t 100.0%\n"
     ]
    },
    {
     "data": {
      "image/png": "[encoded data removed]",
      "text/plain": [
       "<Figure size 504x360 with 1 Axes>"
      ]
     },
     "execution_count": 16,
     "metadata": {},
     "output_type": "execute_result"
    }
   ],
   "source": [
    "###################################### STEP 6: RUN ON SIMULATOR\n",
    "#############################################################################################\n",
    "\n",
    "# choose simulator \n",
    "be = qasm_simulator\n",
    "\n",
    "# run on simulator \n",
    "shots = 1000\n",
    "t_qc = transpile(circ, be)\n",
    "qobj = assemble(t_qc, shots=shots)\n",
    "result = be.run(qobj).result()\n",
    "\n",
    "###################################### STEP 7: SEE SIMULATOR RESULTS FOR FIDELITY\n",
    "#############################################################################################\n",
    "\n",
    "# see fidelity\n",
    "bob_1 = sum([v for (k,v) in result.get_counts().items() if k[0]== \"1\"])\n",
    "bob_0 = sum([v for (k,v) in result.get_counts().items() if k[0]== \"0\"])\n",
    "print(\"\\n Fidelity Bob Qubit:   \\t {}%\".format(100*round(bob_1/(bob_1+bob_0),3)))\n",
    "fid_dict = {\"1\":bob_1,\"0\":bob_0} # dict for hist plot\n",
    "plot_histogram(fid_dict)"
   ]
  },
  {
   "cell_type": "markdown",
   "id": "b1925529",
   "metadata": {},
   "source": [
    "# Experiment B: Test of U s\n",
    "\n",
    "Reference:\n",
    "\n",
    "![U_s](./pics/U_s.jpg)\n"
   ]
  },
  {
   "cell_type": "code",
   "execution_count": 17,
   "id": "ebc3ccd4",
   "metadata": {
    "scrolled": true
   },
   "outputs": [
    {
     "data": {
      "image/png": "[encoded data removed]",
      "text/plain": [
       "<Figure size 688.597x505.68 with 1 Axes>"
      ]
     },
     "execution_count": 17,
     "metadata": {},
     "output_type": "execute_result"
    }
   ],
   "source": [
    "#############################################################################################\n",
    "########################## DEFINE VARIABLES FOR EXPERIMENTAL SETUP ##########################\n",
    "#############################################################################################\n",
    "\n",
    "reps = 1 # number of repetitions of the unitary\n",
    "\n",
    "n = 3 # size of the scrambling unitary / operator\n",
    "\n",
    "method = \"operator\" # choose between methods \"gateset\" and \"operator\"\n",
    "\n",
    "###### method 1: \"gateset\" ######\n",
    "# set two and one qubit gates to be used for scrambling\n",
    "two_q_gates, one_q_gates = [], [] # define lists of one and two qubit gates for scrambling\n",
    "\n",
    "###### method 2: \"operator\" ###### \n",
    "# set unitary for n qubits to be used for scrambling\n",
    "operatorlist = [Us_op]\n",
    "\n",
    "#############################################################################################\n",
    "########################## STRUCTURE CIRC AND PAIRING #######################################\n",
    "#############################################################################################\n",
    "\n",
    "# num of qubits in circuit = 1 q for bob + n*2\n",
    "qnum = 2*n +1\n",
    "\n",
    "# inums of upper and lower half qubits\n",
    "fst_half, sec_half = fst_n_sec_half_nums(qnum)\n",
    "\n",
    "# initial bell pair inums defining the many-body-system\n",
    "bell_pairs = get_bell_pairs(qnum)\n",
    "\n",
    "# list of all bell pairs that can be used as basemeas pair\n",
    "meas_pairs = [x for x in bell_pairs[:-1]]+[[0,qnum-2]] # replace bob and neighbor with alice and bob neighbor\n",
    "\n",
    "# alice has qubit 0 - bob has qubit with last inum \n",
    "inum_alice, inum_bob = 0, qnum-1\n",
    "\n",
    "# define qubit pair that will be used for base measurement \n",
    "# fist pair in the list is the middle pair (furthes away from bob and alice), but any pair will do\n",
    "basemeas = meas_pairs[0]\n",
    "\n",
    "#############################################################################################\n",
    "########################## GET SCRAMBLING TEST TELPO CIRC  ##################################\n",
    "#############################################################################################\n",
    "\n",
    "###################################### STEP 1: PREPARATIONS\n",
    "#############################################################################################\n",
    "\n",
    "# initialize circ \n",
    "circ = QuantumCircuit(qnum,qnum)\n",
    "\n",
    "# initialize alice qubit in |1> state\n",
    "circ.x(inum_alice)\n",
    "\n",
    "# initialize bell pairs\n",
    "entangle_bell_pairs(circ, bell_pairs)\n",
    "\n",
    "###################################### STEP 2: SCRAMBLING PROTOCOL\n",
    "#############################################################################################\n",
    "\n",
    "# option 1: apply scrambling via gateset \n",
    "if method == \"gateset\":\n",
    "    rnum = 0\n",
    "    while rnum < reps:\n",
    "        apply_gate_set_test(circ, two_q_gates, one_q_gates)\n",
    "        circ.barrier()\n",
    "        rnum +=1\n",
    "\n",
    "# option 2: apply scrambling via unitary: \n",
    "if method == \"operator\":\n",
    "    apply_operators(circ, operatorlist)\n",
    "\n",
    "###################################### STEP 3: BASE MEASUREMENT OF BELL PAIR\n",
    "#############################################################################################\n",
    "\n",
    "# disentangle base meas bell pair\n",
    "disentangle_bell_pair(circ, basemeas)\n",
    "\n",
    "###################################### STEP 4: BOB DECODING OF BASE MEASUREMENT\n",
    "#############################################################################################\n",
    "\n",
    "# apply decoding from measurement\n",
    "apply_bob_gates(circ,inum_bob,basemeas)\n",
    "\n",
    "###################################### STEP 5: BOB MEASUREMENT\n",
    "#############################################################################################\n",
    "\n",
    "# measure bob qubit\n",
    "circ.measure(inum_bob,inum_bob)\n",
    "\n",
    "#############################################################################################\n",
    "# see circ\n",
    "circ.draw('mpl')"
   ]
  },
  {
   "cell_type": "code",
   "execution_count": 18,
   "id": "da6c891e",
   "metadata": {},
   "outputs": [
    {
     "name": "stdout",
     "output_type": "stream",
     "text": [
      "\n",
      " Fidelity Bob Qubit:   \t 48.1%\n"
     ]
    },
    {
     "data": {
      "image/png": "[encoded data removed]",
      "text/plain": [
       "<Figure size 504x360 with 1 Axes>"
      ]
     },
     "execution_count": 18,
     "metadata": {},
     "output_type": "execute_result"
    }
   ],
   "source": [
    "###################################### STEP 6: RUN ON SIMULATOR\n",
    "#############################################################################################\n",
    "\n",
    "# choose simulator \n",
    "be = qasm_simulator\n",
    "\n",
    "# run on simulator \n",
    "shots = 1000\n",
    "t_qc = transpile(circ, be)\n",
    "qobj = assemble(t_qc, shots=shots)\n",
    "result = be.run(qobj).result()\n",
    "\n",
    "###################################### STEP 7: SEE SIMULATOR RESULTS FOR FIDELITY\n",
    "#############################################################################################\n",
    "\n",
    "# see fidelity\n",
    "bob_1 = sum([v for (k,v) in result.get_counts().items() if k[0]== \"1\"])\n",
    "bob_0 = sum([v for (k,v) in result.get_counts().items() if k[0]== \"0\"])\n",
    "print(\"\\n Fidelity Bob Qubit:   \\t {}%\".format(100*round(bob_1/(bob_1+bob_0),3)))\n",
    "fid_dict = {\"1\":bob_1,\"0\":bob_0} # dict for hist plot\n",
    "plot_histogram(fid_dict)"
   ]
  },
  {
   "cell_type": "code",
   "execution_count": null,
   "id": "735aa5db",
   "metadata": {},
   "outputs": [],
   "source": []
  }
 ],
 "metadata": {
  "kernelspec": {
   "display_name": "metal",
   "language": "python",
   "name": "metal"
  },
  "language_info": {
   "codemirror_mode": {
    "name": "ipython",
    "version": 3
   },
   "file_extension": ".py",
   "mimetype": "text/x-python",
   "name": "python",
   "nbconvert_exporter": "python",
   "pygments_lexer": "ipython3",
   "version": "3.7.8"
  }
 },
 "nbformat": 4,
 "nbformat_minor": 5
}
