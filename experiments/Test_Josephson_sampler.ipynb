{
 "cells": [
  {
   "cell_type": "markdown",
   "id": "ec6f236b",
   "metadata": {},
   "source": [
    "**Reference: Sampling and scrambling on a chain of superconducting qubits**\n",
    "\n",
    "Here we provide additional details about the Josephson sampler. \n",
    "In (2), Y and Z are Pauli matrices. The circuit is a function of x ∈ R m, with each component 4π-periodic. The design attempts to embed as many rotation parameters as possible, while making sure there is no redundancy when applied to classical inputs or when layered. On the imbqx5 chip the CZ gate diag(1, 1, 1, −1) is made from a CNOT and Hadamards. Explicit L = 1 circuits for n = 5 and 6 are shown in Figs. 22 and 23, which also show the particular mapping between vector components and gate angles used.\n",
    "\n",
    "In this work we will study the performance of a practical embedding circuit—the Josephson sampler—on the\n",
    "IBM Quantum Experience ibmqx5 device, which has 16\n",
    "transmon qubits. We study samplers up to size n = 6.\n",
    "The circuit acts on a 1d chain of qubits with nearestneighbor CNOT or CZ gates, and has a layered construction\n",
    "\n",
    "       U = UL · · ·U2U1 (1)\n",
    "with L layers, as shown below.\n",
    "\n",
    "First layer U1U2:\n",
    "![First layer U1U2](.\\\\pics\\\\josephson_p1.jpg)\n",
    "\n",
    "Description:\n",
    "![Description](.\\\\pics\\\\josephson_p2.jpg)\n",
    "\n",
    "Apendix A:\n",
    "Explicit L = 1 circuits for n = 5 and 6 \n",
    "![Apendix A](.\\\\pics\\\\josephson_p3.jpg)"
   ]
  },
  {
   "cell_type": "markdown",
   "id": "78ea01ac",
   "metadata": {},
   "source": [
    "# Fuction for Layer with n Qubits"
   ]
  },
  {
   "cell_type": "code",
   "execution_count": 2,
   "id": "117f4603",
   "metadata": {},
   "outputs": [],
   "source": [
    "# func to apply a Josephson sampler layer to a circuit\n",
    "\n",
    "\n",
    "def josephson_sampler_layer(circ, theta, phi):\n",
    "    '''\n",
    "    args:\n",
    "        circ - (QuantumCircuit object) circuit to apply protocol to\n",
    "        theta - angle for Y rotations\n",
    "        phi - angle for Z rotations\n",
    "    '''\n",
    "    # define layer structure\n",
    "    layers = [(i, i+1) for i in range(len(circ.qubits)-2)]\n",
    "    first_CZ_pairs = [layers[i] for i in range(len(layers)) if i%2==0]\n",
    "    second_CZ_pairs =  [layers[i] for i in range(len(layers)) if i%2!=0]\n",
    "\n",
    "    # 1. first u round \n",
    "    for i in range(0,len(circ.qubits)-1): \n",
    "        circ.ry(theta,i)\n",
    "        circ.rz(phi,i)\n",
    "\n",
    "    # 2. first CZ round \n",
    "    for pair in first_CZ_pairs:\n",
    "        circ.cz(pair[0],pair[1])\n",
    "\n",
    "    # 3. second u round \n",
    "    for i in range(1,len(circ.qubits)-2): \n",
    "        circ.ry(theta,i)\n",
    "        circ.rz(phi,i)\n",
    "        \n",
    "    # 4. second CZ round\n",
    "    for pair in second_CZ_pairs:\n",
    "        circ.cz(pair[0],pair[1])"
   ]
  },
  {
   "cell_type": "markdown",
   "id": "ffe244b7",
   "metadata": {},
   "source": [
    "# Alternative with u gate"
   ]
  },
  {
   "cell_type": "code",
   "execution_count": 3,
   "id": "3d81e28d",
   "metadata": {},
   "outputs": [],
   "source": [
    "def josephson_sampler_ux(circ, u_x):\n",
    "    \n",
    "    # for circ with n qubits\n",
    "\n",
    "    layers = [(i, i+1) for i in range(len(circ.qubits)-2)]\n",
    "    first_CZ_pairs = [layers[i] for i in range(len(layers)) if i%2==0]\n",
    "    second_CZ_pairs =  [layers[i] for i in range(len(layers)) if i%2!=0]\n",
    "\n",
    "    for i in range(0,len(circ.qubits)-1): \n",
    "        circ.u(u_x,i)\n",
    "\n",
    "    for pair in first_CZ_pairs:\n",
    "        circ.cz(pair[0],pair[1])\n",
    "\n",
    "    for i in range(1,len(circ.qubits)-2): \n",
    "        circ.u(u_x,i)\n",
    "\n",
    "    for pair in second_CZ_pairs:\n",
    "        circ.cz(pair[0],pair[1])"
   ]
  },
  {
   "cell_type": "markdown",
   "id": "e60ffa82",
   "metadata": {},
   "source": [
    "# Tests"
   ]
  },
  {
   "cell_type": "code",
   "execution_count": null,
   "id": "813be790",
   "metadata": {},
   "outputs": [],
   "source": [
    "%matplotlib inline\n",
    "import matplotlib\n",
    "from matplotlib import pyplot as plt\n",
    "import qiskit\n",
    "from qiskit import QuantumRegister, ClassicalRegister, QuantumCircuit, IBMQ\n",
    "from numpy import pi\n",
    "\n",
    "# for 6 Qubits\n",
    "n = 6 \n",
    "circ = QuantumCircuit(n,n)\n",
    "josephson_sampler_layer(circ, theta=pi/2, phi=pi/2)\n",
    "circ.draw('mpl')"
   ]
  },
  {
   "cell_type": "code",
   "execution_count": null,
   "id": "14631f82",
   "metadata": {},
   "outputs": [],
   "source": [
    "# for 7 Qubits\n",
    "n = 7\n",
    "circ = QuantumCircuit(n,n)\n",
    "josephson_sampler_layer(circ, theta=pi/2, phi=pi/2)\n",
    "circ.draw('mpl')"
   ]
  },
  {
   "cell_type": "code",
   "execution_count": null,
   "id": "ebdcaa68",
   "metadata": {},
   "outputs": [],
   "source": []
  }
 ],
 "metadata": {
  "kernelspec": {
   "display_name": "metal",
   "language": "python",
   "name": "metal"
  },
  "language_info": {
   "codemirror_mode": {
    "name": "ipython",
    "version": 3
   },
   "file_extension": ".py",
   "mimetype": "text/x-python",
   "name": "python",
   "nbconvert_exporter": "python",
   "pygments_lexer": "ipython3",
   "version": "3.7.8"
  }
 },
 "nbformat": 4,
 "nbformat_minor": 5
}
