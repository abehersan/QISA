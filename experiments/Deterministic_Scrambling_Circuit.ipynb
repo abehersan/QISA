{
 "cells": [
  {
   "cell_type": "code",
   "execution_count": 15,
   "id": "c9c56d2b",
   "metadata": {},
   "outputs": [
    {
     "name": "stderr",
     "output_type": "stream",
     "text": [
      "ibmqfactory.load_account:WARNING:2021-05-14 16:16:38,458: Credentials are already in use. The existing account in the session will be replaced.\n"
     ]
    }
   ],
   "source": [
    "%matplotlib inline\n",
    "import matplotlib, qiskit, pprint\n",
    "from matplotlib import pyplot as plt\n",
    "import numpy as np\n",
    "from numpy import pi\n",
    "from qiskit import QuantumRegister, ClassicalRegister, QuantumCircuit, Aer, IBMQ, transpile, schedule, assemble\n",
    "from qiskit.providers.aer import QasmSimulator\n",
    "from qiskit.test.mock import FakeAlmaden, FakeMelbourne\n",
    " \n",
    "# load account\n",
    "IBMQ.load_account()\n",
    "provider = IBMQ.get_provider(hub='ibm-q', group='open', project='main')\n",
    "# simulators:\n",
    "f_alma = FakeAlmaden() # simulator f_alma for pulse schedules\n",
    "f_mel = FakeMelbourne() # simulator f_mel for simulator backend mel\n",
    "qasm_simulator = Aer.get_backend('qasm_simulator') "
   ]
  },
  {
   "cell_type": "markdown",
   "id": "c16a0557",
   "metadata": {},
   "source": [
    "# Deterministic Scrambling Circuit\n",
    "\n",
    "Reference: Verified Quantum Information Scrambling https://arxiv.org/abs/1806.02807\n",
    "\n",
    "![Determ1](.\\\\pics\\\\Determ1_Scrambling_Circ.jpg)\n",
    "\n",
    "\n",
    "Matrix:\n",
    "![Determ4](.\\\\pics\\\\Determ4_Scrambling_Circ.jpg)\n",
    "\n",
    "\n",
    "Unitary:\n",
    "![Determ2](.\\\\pics\\\\Determ2_Scrambling_Circ.jpg)\n"
   ]
  },
  {
   "cell_type": "markdown",
   "id": "56f2b46f",
   "metadata": {},
   "source": [
    "## General Functions:"
   ]
  },
  {
   "cell_type": "code",
   "execution_count": 4,
   "id": "c6ceeeb2",
   "metadata": {},
   "outputs": [],
   "source": [
    "# func to apply CZ and H gate unitary to upper or lower part of the circuit\n",
    "\n",
    "def make_3q_U(circ,half):\n",
    "    \n",
    "    circ.cz(half[0],half[2])\n",
    "    circ.cz(half[1],half[2])\n",
    "    circ.cz(half[0],half[1])\n",
    "    \n",
    "    circ.barrier(half)\n",
    "    \n",
    "    for i in half:\n",
    "        circ.h(i)\n",
    "        \n",
    "    circ.cz(half[0],half[2])\n",
    "    circ.cz(half[0],half[1])\n",
    "    circ.cz(half[1],half[2])"
   ]
  },
  {
   "cell_type": "code",
   "execution_count": 5,
   "id": "70ed9ee4",
   "metadata": {},
   "outputs": [],
   "source": [
    "# funcs for bell pair entanglement and measurement\n",
    "\n",
    "def entangle_bell_pairs(circ, bell_pairs):\n",
    "    # Define many-body-system bell pairs\n",
    "    for pair in bell_pairs:\n",
    "        circ.h(pair[0])\n",
    "        circ.cx(pair[0],pair[1])\n",
    "\n",
    "def disentangle_bell_pair(circ, pair):\n",
    "    circ.cx(pair[0], pair[1])\n",
    "    circ.h(pair[0])"
   ]
  },
  {
   "cell_type": "code",
   "execution_count": 6,
   "id": "f2da1655",
   "metadata": {},
   "outputs": [],
   "source": [
    "# func to return thet for Z rotation from Unitary parameter alpha\n",
    "\n",
    "def get_theta_from_alpha(alpha):\n",
    "    return (alpha*pi)/2"
   ]
  },
  {
   "cell_type": "code",
   "execution_count": 7,
   "id": "4d12bd05",
   "metadata": {},
   "outputs": [],
   "source": [
    "# find initial bell pairs for n qubit circ\n",
    "\n",
    "def get_bell_pairs(circ):\n",
    "\n",
    "    n = len(circ.qubits)\n",
    "    # make pairings:\n",
    "    if n%2 != 0:\n",
    "        initalsys = [x for x in range(n)][1:-1] # put first and last qubits aside for initial entanglement of the system\n",
    "        pairs = [[item,initalsys[int(len(initalsys)/2):][number]]\n",
    "                         for (number,item) in enumerate(reversed(initalsys[:int(len(initalsys)/2)]))]\n",
    "    else:\n",
    "        print(\"Find out how to deal with even number circ, Hannah!\")\n",
    "    # append pair bob and q before bob:   \n",
    "    pairs.append([n-2, n-1]) \n",
    "    \n",
    "    return pairs"
   ]
  },
  {
   "cell_type": "code",
   "execution_count": 8,
   "id": "03f1d93d",
   "metadata": {},
   "outputs": [],
   "source": [
    "# func to get structure of scrambling U and U* for n qubit circ\n",
    "\n",
    "def get_unitary_pairs(circ):\n",
    "    \n",
    "    if n%2 != 0:\n",
    "        upper_qs = [x for x in range(n-1)][:int(n/2)]\n",
    "        lower_qs = [x for x in range(n-1)][int(n/2):]\n",
    "    else:\n",
    "        print(\"Find out how to deal with even number circ, Hannah!\")\n",
    "    \n",
    "    upper_pairs = sorted([(upper_qs[i],upper_qs[i+1]) \n",
    "                   for i in range(len(upper_qs)-1)] + [(upper_qs[i],upper_qs[i+2]) \n",
    "                                                       for i in range(len(upper_qs)-2)])\n",
    "\n",
    "    lower_pairs = sorted([(lower_qs[i],lower_qs[i+1]) \n",
    "                   for i in range(len(lower_qs)-1)] + [(lower_qs[i],lower_qs[i+2]) \n",
    "                                                       for i in range(len(lower_qs)-2)])\n",
    "    \n",
    "    lower_pairs = [x for x in reversed(lower_pairs)]\n",
    "    \n",
    "    return upper_pairs, lower_pairs"
   ]
  },
  {
   "cell_type": "code",
   "execution_count": 9,
   "id": "27ca6f71",
   "metadata": {},
   "outputs": [],
   "source": [
    "# func to insert bell meas into circ\n",
    "\n",
    "def insert_bell_measurement(circ, pair):\n",
    "    circ.barrier()\n",
    "    circ.cx(pair[0],pair[1])\n",
    "    circ.h(pair[0])\n",
    "    circ.measure(pair[0],pair[0])\n",
    "    circ.measure(pair[1],pair[1])\n",
    "    circ.barrier()"
   ]
  },
  {
   "cell_type": "markdown",
   "id": "3c11cf0e",
   "metadata": {},
   "source": [
    "# Tests:"
   ]
  },
  {
   "cell_type": "markdown",
   "id": "29c47243",
   "metadata": {},
   "source": [
    "### A) 7 Qubit Circuit with U and U*"
   ]
  },
  {
   "cell_type": "code",
   "execution_count": 21,
   "id": "1a180317",
   "metadata": {},
   "outputs": [
    {
     "name": "stdout",
     "output_type": "stream",
     "text": [
      "\n",
      " Fidelity Bob Qubit: \t50.0%\n",
      "\n",
      " Fidelity Bob Partner: \t45.72%\n",
      "\n",
      " Fidelity Base Meas A: \t44.76%\n",
      "\n",
      " Fidelity Base Meas B: \t53.94%\n",
      "{'0000000': 708,\n",
      " '0000100': 548,\n",
      " '0001000': 833,\n",
      " '0001100': 660,\n",
      " '0100000': 582,\n",
      " '0100100': 460,\n",
      " '0101000': 660,\n",
      " '0101100': 549,\n",
      " '1000000': 697,\n",
      " '1000100': 557,\n",
      " '1001000': 769,\n",
      " '1001100': 656,\n",
      " '1100000': 568,\n",
      " '1100100': 486,\n",
      " '1101000': 707,\n",
      " '1101100': 560}\n"
     ]
    },
    {
     "data": {
      "image/png": "[encoded data removed]",
      "text/plain": [
       "<Figure size 1049.8x505.68 with 1 Axes>"
      ]
     },
     "execution_count": 21,
     "metadata": {},
     "output_type": "execute_result"
    }
   ],
   "source": [
    "########################### circuit and structure #########################\n",
    "\n",
    "# set number of qubits\n",
    "n = 7\n",
    "\n",
    "# circ \n",
    "circ = QuantumCircuit(n,n)\n",
    "# structure \n",
    "upper_qs = [x for x in range(n-1)][:int(n/2)]\n",
    "lower_qs = [x for x in range(n-1)][int(n/2):]  \n",
    "bell_pairs = get_bell_pairs(circ)\n",
    "# pairs for mesurements\n",
    "basemeas = bell_pairs[0]\n",
    "bob_pair = bell_pairs[-1]\n",
    "# inums for results\n",
    "meas_a_i, meas_b_i = -1 * (basemeas[0]+1), -1 * (basemeas[1]+1)\n",
    "bob_imeas, bob_pmeas = 0,1\n",
    "\n",
    "########################### apply protocol ################################\n",
    "\n",
    "# 1. entangle EPR pairs\n",
    "entangle_bell_pairs(circ, bell_pairs)\n",
    "circ.barrier()\n",
    "\n",
    "# 2. apply U and U* to both halfs of the circuit\n",
    "make_3q_U(circ, upper_qs)\n",
    "make_3q_U(circ, lower_qs)\n",
    "\n",
    "# 3. measure base EPR pair \n",
    "insert_bell_measurement(circ,basemeas)\n",
    "\n",
    "# 4. measure Bob paair\n",
    "insert_bell_measurement(circ,bob_pair)\n",
    "\n",
    "########################### run simulation ################################\n",
    "\n",
    "# run on f_mel\n",
    "pct = 100\n",
    "shots = 100*pct\n",
    "qobj = assemble(circ, shots=shots)\n",
    "result = f_alma.run(qobj).result().get_counts()\n",
    "\n",
    "############################ see results ##################################\n",
    "\n",
    "bob_meas_1  = sum([v for (k,v) in result.items() if k[bob_imeas]==\"1\"])\n",
    "bob_p_meas_1 = sum([v for (k,v) in result.items() if k[bob_pmeas]==\"1\"])\n",
    "meas1_1 = sum([v for (k,v) in result.items() if k[meas_a_i]==\"1\"])\n",
    "meas2_1 =  sum([v for (k,v) in result.items() if k[meas_b_i]==\"1\"])\n",
    "\n",
    "print(\"\\n Fidelity Bob Qubit: \\t{}%\".format(bob_meas_1/pct)) \n",
    "print(\"\\n Fidelity Bob Partner: \\t{}%\".format(bob_p_meas_1/pct)) \n",
    "print(\"\\n Fidelity Base Meas A: \\t{}%\".format(meas1_1/pct)) \n",
    "print(\"\\n Fidelity Base Meas B: \\t{}%\".format(meas2_1/pct)) \n",
    "pprint.pprint(result)\n",
    "\n",
    "############################ see circuit ##################################\n",
    "\n",
    "circ.draw('mpl', plot_barriers=False)"
   ]
  },
  {
   "cell_type": "markdown",
   "id": "5af30f1a",
   "metadata": {},
   "source": [
    "### B) 7 Qubit Circuit with U, U* and U'\n"
   ]
  },
  {
   "cell_type": "code",
   "execution_count": 25,
   "id": "fa4dbf8d",
   "metadata": {},
   "outputs": [
    {
     "name": "stdout",
     "output_type": "stream",
     "text": [
      "\n",
      " Fidelity Bob Qubit: \t6.4%\n",
      "\n",
      " Fidelity Bob Partner: \t2.34%\n",
      "\n",
      " Fidelity Base Meas A: \t45.3%\n",
      "\n",
      " Fidelity Base Meas B: \t53.75%\n",
      "{'0000000': 2319,\n",
      " '0000100': 1910,\n",
      " '0001000': 2718,\n",
      " '0001100': 2246,\n",
      " '0100000': 50,\n",
      " '0100100': 47,\n",
      " '0101000': 37,\n",
      " '0101100': 33,\n",
      " '1000000': 149,\n",
      " '1000100': 121,\n",
      " '1001000': 164,\n",
      " '1001100': 139,\n",
      " '1100000': 15,\n",
      " '1100100': 14,\n",
      " '1101000': 18,\n",
      " '1101100': 20}\n"
     ]
    },
    {
     "data": {
      "image/png": "[encoded data removed]",
      "text/plain": [
       "<Figure size 1471.2x505.68 with 1 Axes>"
      ]
     },
     "execution_count": 25,
     "metadata": {},
     "output_type": "execute_result"
    }
   ],
   "source": [
    "########################### circuit and structure #########################\n",
    "\n",
    "# set number of qubits\n",
    "n = 7\n",
    "\n",
    "# circ \n",
    "circ = QuantumCircuit(n,n)\n",
    "# structure \n",
    "upper_qs = [x for x in range(n-1)][:int(n/2)]\n",
    "lower_qs = [x for x in range(n-1)][int(n/2):]  \n",
    "bell_pairs = get_bell_pairs(circ)\n",
    "# pairs for mesurements\n",
    "basemeas = bell_pairs[0]\n",
    "bob_pair = bell_pairs[-1]\n",
    "# inums for results\n",
    "meas_a_i, meas_b_i = -1 * (basemeas[0]+1), -1 * (basemeas[1]+1)\n",
    "bob_imeas, bob_pmeas = 0,1\n",
    "\n",
    "########################### apply protocol ################################\n",
    "\n",
    "# 1. entangle EPR pairs\n",
    "entangle_bell_pairs(circ, bell_pairs)\n",
    "circ.barrier()\n",
    "\n",
    "# 2. apply U, U* and U' to both halfs of the circuit\n",
    "make_3q_U(circ, upper_qs) # U\n",
    "make_3q_U(circ, lower_qs) # U*\n",
    "make_3q_U(circ, lower_qs) # U'\n",
    "\n",
    "# 3. measure base EPR pair \n",
    "insert_bell_measurement(circ,basemeas)\n",
    "\n",
    "# 4. measure Bob paair\n",
    "insert_bell_measurement(circ,bob_pair)\n",
    "\n",
    "########################### run simulation ################################\n",
    "\n",
    "# run on f_mel\n",
    "pct = 100\n",
    "shots = 100*pct\n",
    "qobj = assemble(circ, shots=shots)\n",
    "result = f_alma.run(qobj).result().get_counts()\n",
    "\n",
    "############################ see results ##################################\n",
    "\n",
    "bob_meas_1  = sum([v for (k,v) in result.items() if k[bob_imeas]==\"1\"])\n",
    "bob_p_meas_1 = sum([v for (k,v) in result.items() if k[bob_pmeas]==\"1\"])\n",
    "meas1_1 = sum([v for (k,v) in result.items() if k[meas_a_i]==\"1\"])\n",
    "meas2_1 =  sum([v for (k,v) in result.items() if k[meas_b_i]==\"1\"])\n",
    "\n",
    "print(\"\\n Fidelity Bob Qubit: \\t{}%\".format(bob_meas_1/pct)) \n",
    "print(\"\\n Fidelity Bob Partner: \\t{}%\".format(bob_p_meas_1/pct)) \n",
    "print(\"\\n Fidelity Base Meas A: \\t{}%\".format(meas1_1/pct)) \n",
    "print(\"\\n Fidelity Base Meas B: \\t{}%\".format(meas2_1/pct)) \n",
    "pprint.pprint(result)\n",
    "\n",
    "############################ see circuit ##################################\n",
    "\n",
    "circ.draw('mpl', plot_barriers=False)"
   ]
  },
  {
   "cell_type": "code",
   "execution_count": null,
   "id": "12948f8a",
   "metadata": {},
   "outputs": [],
   "source": []
  },
  {
   "cell_type": "code",
   "execution_count": null,
   "id": "4ef42cef",
   "metadata": {},
   "outputs": [],
   "source": []
  }
 ],
 "metadata": {
  "kernelspec": {
   "display_name": "metal",
   "language": "python",
   "name": "metal"
  },
  "language_info": {
   "codemirror_mode": {
    "name": "ipython",
    "version": 3
   },
   "file_extension": ".py",
   "mimetype": "text/x-python",
   "name": "python",
   "nbconvert_exporter": "python",
   "pygments_lexer": "ipython3",
   "version": "3.7.8"
  }
 },
 "nbformat": 4,
 "nbformat_minor": 5
}
