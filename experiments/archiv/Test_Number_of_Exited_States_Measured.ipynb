{
 "cells": [
  {
   "cell_type": "code",
   "execution_count": 1,
   "id": "c9c56d2b",
   "metadata": {},
   "outputs": [],
   "source": [
    "%matplotlib inline\n",
    "import matplotlib, qiskit, pprint\n",
    "from matplotlib import pyplot as plt\n",
    "import numpy as np\n",
    "from numpy import pi\n",
    "from qiskit import QuantumRegister, ClassicalRegister, QuantumCircuit, Aer, IBMQ, transpile, schedule, assemble\n",
    "from qiskit.providers.aer import QasmSimulator\n",
    "from qiskit.test.mock import FakeAlmaden, FakeMelbourne\n",
    "from qiskit.visualization import *\n",
    "\n",
    "\n",
    "# load account\n",
    "IBMQ.load_account()\n",
    "provider = IBMQ.get_provider(hub='ibm-q', group='open', project='main')\n",
    "# simulators:\n",
    "f_alma = FakeAlmaden() # simulator f_alma for pulse schedules\n",
    "f_mel = FakeMelbourne() # simulator f_mel for simulator backend mel\n",
    "qasm_simulator = Aer.get_backend('qasm_simulator') "
   ]
  },
  {
   "cell_type": "code",
   "execution_count": 2,
   "id": "8d0e26db",
   "metadata": {},
   "outputs": [],
   "source": [
    "from qiskit.algorithms import Grover"
   ]
  },
  {
   "cell_type": "code",
   "execution_count": 3,
   "id": "a52354a5",
   "metadata": {},
   "outputs": [],
   "source": [
    "# import custom modules:\n",
    "\n",
    "from circ_utils import *\n",
    "\n",
    "from operator_3q_lib import *"
   ]
  },
  {
   "cell_type": "markdown",
   "id": "c16a0557",
   "metadata": {},
   "source": [
    "# Deterministic Scrambling Circuit\n",
    "\n",
    "Reference: Verified Quantum Information Scrambling https://arxiv.org/abs/1806.02807\n",
    "\n",
    "![Determ1](.\\\\pics\\\\Determ1_Scrambling_Circ.jpg)\n",
    "\n",
    "\n",
    "Matrix:\n",
    "![Determ4](.\\\\pics\\\\Determ4_Scrambling_Circ.jpg)\n",
    "\n",
    "\n",
    "Unitary:\n",
    "![Determ2](.\\\\pics\\\\Determ2_Scrambling_Circ.jpg)\n"
   ]
  },
  {
   "cell_type": "code",
   "execution_count": 4,
   "id": "a8b340a3",
   "metadata": {},
   "outputs": [],
   "source": [
    "from qiskit.circuit.library import GroverOperator"
   ]
  },
  {
   "cell_type": "markdown",
   "id": "592685b6",
   "metadata": {},
   "source": [
    "# Test 1: U and U* \n",
    "## 1.1 Alice Qubit in state |1>"
   ]
  },
  {
   "cell_type": "code",
   "execution_count": 63,
   "id": "327367de",
   "metadata": {},
   "outputs": [
    {
     "name": "stdout",
     "output_type": "stream",
     "text": [
      "\n",
      " Fidelity Bob Qubit: \t49.375%\n",
      "\n",
      " Fidelity Bob Partner: \t46.6908%\n",
      "\n",
      " Fidelity Base Meas A: \t44.7328%\n",
      "\n",
      " Fidelity Base Meas B: \t53.6742%\n"
     ]
    }
   ],
   "source": [
    "# set number of qubits\n",
    "n = 7\n",
    "# circ \n",
    "circ = QuantumCircuit(n,n)\n",
    "# pairs for mesurements\n",
    "basemeas = bell_pairs[0]\n",
    "bob_pair = bell_pairs[-1]\n",
    "# inums for results\n",
    "meas_a_i, meas_b_i = -1 * (basemeas[0]+1), -1 * (basemeas[1]+1)\n",
    "bob_imeas, bob_pmeas = 0,1\n",
    "bell_pairs = get_bell_pairs(circ)\n",
    "\n",
    "######### protocol\n",
    "\n",
    "circ.x(0)\n",
    "entangle_bell_pairs(circ, bell_pairs)\n",
    "\n",
    "circ.cz(0,2)\n",
    "circ.cz(1,2)\n",
    "circ.cz(0,1)\n",
    "circ.barrier(0,1,2)\n",
    "for i in [0,1,2]:\n",
    "    circ.h(i)\n",
    "circ.cz(0,2)\n",
    "circ.cz(0,1)\n",
    "circ.cz(1,2)\n",
    "\n",
    "circ.cz(3,5)\n",
    "circ.cz(4,5)\n",
    "circ.cz(3,4)\n",
    "circ.barrier(3,4,5)\n",
    "for i in [3,4,5]:\n",
    "    circ.h(i)\n",
    "circ.cz(3,5)\n",
    "circ.cz(3,4)\n",
    "circ.cz(4,5)\n",
    "\n",
    "circ.barrier()\n",
    "\n",
    "for pair in bell_pairs:\n",
    "    insert_bell_measurement(circ,pair)\n",
    "\n",
    "circ.measure(0,0)\n",
    "\n",
    "########################### run on f_alma ################################\n",
    "\n",
    "# run on simulator\n",
    "be = f_alma\n",
    "\n",
    "pct = 5000\n",
    "shots = 100*pct\n",
    "qobj = assemble(circ, shots=shots)\n",
    "result = be.run(qobj).result()\n",
    "counts = result.get_counts()\n",
    "\n",
    "exi_counts_1state = get_exited_state_dist(result, num_qubits=7)\n",
    "\n",
    "############################ see results ##################################\n",
    "\n",
    "bob_meas_1  = sum([v for (k,v) in counts.items() if k[bob_imeas]==\"1\"])\n",
    "bob_p_meas_1 = sum([v for (k,v) in counts.items() if k[bob_pmeas]==\"1\"])\n",
    "meas1_1 = sum([v for (k,v) in counts.items() if k[meas_a_i]==\"1\"])\n",
    "meas2_1 =  sum([v for (k,v) in counts.items() if k[meas_b_i]==\"1\"])\n",
    "\n",
    "print(\"\\n Fidelity Bob Qubit: \\t{}%\".format(bob_meas_1/pct)) \n",
    "print(\"\\n Fidelity Bob Partner: \\t{}%\".format(bob_p_meas_1/pct)) \n",
    "print(\"\\n Fidelity Base Meas A: \\t{}%\".format(meas1_1/pct)) \n",
    "print(\"\\n Fidelity Base Meas B: \\t{}%\".format(meas2_1/pct)) "
   ]
  },
  {
   "cell_type": "markdown",
   "id": "2fcfdcdf",
   "metadata": {},
   "source": [
    "## 1.2 Alice Qubit in state |0>"
   ]
  },
  {
   "cell_type": "code",
   "execution_count": 64,
   "id": "07aad5e4",
   "metadata": {},
   "outputs": [
    {
     "name": "stdout",
     "output_type": "stream",
     "text": [
      "\n",
      " Fidelity Bob Qubit: \t50.6254%\n",
      "\n",
      " Fidelity Bob Partner: \t53.421%\n",
      "\n",
      " Fidelity Base Meas A: \t55.1714%\n",
      "\n",
      " Fidelity Base Meas B: \t46.4032%\n"
     ]
    }
   ],
   "source": [
    "############################################## f_mel\n",
    "\n",
    "# set number of qubits\n",
    "n = 7\n",
    "# circ \n",
    "circ = QuantumCircuit(n,n)\n",
    "# pairs for mesurements\n",
    "basemeas = bell_pairs[0]\n",
    "bob_pair = bell_pairs[-1]\n",
    "# inums for results\n",
    "meas_a_i, meas_b_i = -1 * (basemeas[0]+1), -1 * (basemeas[1]+1)\n",
    "bob_imeas, bob_pmeas = 0,1\n",
    "bell_pairs = get_bell_pairs(circ)\n",
    "\n",
    "######### protocol\n",
    "\n",
    "#circ.x(0)\n",
    "entangle_bell_pairs(circ, bell_pairs)\n",
    "\n",
    "circ.cz(0,2)\n",
    "circ.cz(1,2)\n",
    "circ.cz(0,1)\n",
    "circ.barrier(0,1,2)\n",
    "for i in [0,1,2]:\n",
    "    circ.h(i)\n",
    "circ.cz(0,2)\n",
    "circ.cz(0,1)\n",
    "circ.cz(1,2)\n",
    "\n",
    "circ.cz(3,5)\n",
    "circ.cz(4,5)\n",
    "circ.cz(3,4)\n",
    "circ.barrier(3,4,5)\n",
    "for i in [3,4,5]:\n",
    "    circ.h(i)\n",
    "circ.cz(3,5)\n",
    "circ.cz(3,4)\n",
    "circ.cz(4,5)\n",
    "\n",
    "circ.barrier()\n",
    "\n",
    "for pair in bell_pairs:\n",
    "    insert_bell_measurement(circ,pair)\n",
    "\n",
    "circ.measure(0,0)\n",
    "\n",
    "########################### run on f_alma ################################\n",
    "\n",
    "# run on simulator\n",
    "be = f_alma\n",
    "\n",
    "pct = 5000\n",
    "shots = 100*pct\n",
    "qobj = assemble(circ, shots=shots)\n",
    "result = be.run(qobj).result()\n",
    "counts = result.get_counts()\n",
    "\n",
    "exi_counts_0state = get_exited_state_dist(result, num_qubits=7)\n",
    "\n",
    "############################ see results ##################################\n",
    "\n",
    "bob_meas_1  = sum([v for (k,v) in counts.items() if k[bob_imeas]==\"0\"])\n",
    "bob_p_meas_1 = sum([v for (k,v) in counts.items() if k[bob_pmeas]==\"0\"])\n",
    "meas1_1 = sum([v for (k,v) in counts.items() if k[meas_a_i]==\"0\"])\n",
    "meas2_1 =  sum([v for (k,v) in counts.items() if k[meas_b_i]==\"0\"])\n",
    "\n",
    "print(\"\\n Fidelity Bob Qubit: \\t{}%\".format(bob_meas_1/pct)) \n",
    "print(\"\\n Fidelity Bob Partner: \\t{}%\".format(bob_p_meas_1/pct)) \n",
    "print(\"\\n Fidelity Base Meas A: \\t{}%\".format(meas1_1/pct)) \n",
    "print(\"\\n Fidelity Base Meas B: \\t{}%\".format(meas2_1/pct)) "
   ]
  },
  {
   "cell_type": "markdown",
   "id": "051b2db0",
   "metadata": {},
   "source": [
    "# Analysis: Number of exited states measured in 1.1 and 1.2"
   ]
  },
  {
   "cell_type": "code",
   "execution_count": 65,
   "id": "fc9cc3bf",
   "metadata": {},
   "outputs": [
    {
     "data": {
      "image/png": "[encoded data removed]",
      "text/plain": [
       "<Figure size 504x360 with 1 Axes>"
      ]
     },
     "execution_count": 65,
     "metadata": {},
     "output_type": "execute_result"
    }
   ],
   "source": [
    "# 1.1 Alice Qubit in state |1>\n",
    "\n",
    "plot_histogram(exi_counts_1state)"
   ]
  },
  {
   "cell_type": "code",
   "execution_count": 66,
   "id": "41f18eca",
   "metadata": {},
   "outputs": [
    {
     "data": {
      "image/png": "[encoded data removed]",
      "text/plain": [
       "<Figure size 504x360 with 1 Axes>"
      ]
     },
     "execution_count": 66,
     "metadata": {},
     "output_type": "execute_result"
    }
   ],
   "source": [
    "# 1.2 Alice Qubit in state |0>\n",
    "\n",
    "plot_histogram(exi_counts_0state)"
   ]
  },
  {
   "cell_type": "markdown",
   "id": "a39155b1",
   "metadata": {},
   "source": []
  }
 ],
 "metadata": {
  "kernelspec": {
   "display_name": "metal",
   "language": "python",
   "name": "metal"
  },
  "language_info": {
   "codemirror_mode": {
    "name": "ipython",
    "version": 3
   },
   "file_extension": ".py",
   "mimetype": "text/x-python",
   "name": "python",
   "nbconvert_exporter": "python",
   "pygments_lexer": "ipython3",
   "version": "3.7.8"
  }
 },
 "nbformat": 4,
 "nbformat_minor": 5
}
