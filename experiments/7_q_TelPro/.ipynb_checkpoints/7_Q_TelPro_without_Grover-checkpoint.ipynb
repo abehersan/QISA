{
 "cells": [
  {
   "cell_type": "code",
   "execution_count": 1,
   "id": "929847dc",
   "metadata": {},
   "outputs": [],
   "source": [
    "%matplotlib inline\n",
    "import matplotlib\n",
    "from matplotlib import pyplot as plt\n",
    "\n",
    "import qiskit\n",
    "from qiskit import QuantumRegister, ClassicalRegister, QuantumCircuit, IBMQ\n",
    "from qiskit import transpile, schedule, assemble"
   ]
  },
  {
   "cell_type": "code",
   "execution_count": 2,
   "id": "4df36cc4",
   "metadata": {},
   "outputs": [],
   "source": [
    "# loading account\n",
    "IBMQ.load_account()\n",
    "provider = IBMQ.get_provider(hub='ibm-q', group='open', project='main')\n",
    "\n",
    "# get simulator f_alma:\n",
    "from qiskit.test.mock import FakeAlmaden\n",
    "f_alma = FakeAlmaden() # simulator f_alma for pulse schedules"
   ]
  },
  {
   "cell_type": "markdown",
   "id": "73fca8b1",
   "metadata": {},
   "source": [
    "# All including function"
   ]
  },
  {
   "cell_type": "code",
   "execution_count": 4,
   "id": "b747ae38",
   "metadata": {},
   "outputs": [],
   "source": [
    "# func to apply protocol for 7 qubits, expected fidelity of teleportation: 50%\n",
    "\n",
    "def apply_7_prot(circ, meas_pair_num):\n",
    "    \n",
    "    '''\n",
    "    args: \n",
    "        circ (QuantumCircuit object) circuit to apply protocol to\n",
    "        meas_pair_num (int) index num of EPR pair used for basis measurement\n",
    "    '''\n",
    "    \n",
    "    bell_pairs = [(5,6),(2,3),(1,4)]\n",
    "    qubits_to_measure = bell_pairs[meas_pair_num]\n",
    "    \n",
    "    # Prepare state of alice q0 to be |1> \n",
    "    circ.x(0)\n",
    "    \n",
    "    # Define many-body-system bell pairs\n",
    "    for pair in bell_pairs:\n",
    "        circ.h(pair[0])\n",
    "        circ.cx(pair[0],pair[1])\n",
    "\n",
    "    # apply scrambling unitary U\n",
    "    circ.cz(0,2)\n",
    "    circ.cz(0,1)\n",
    "    circ.cz(1,2)\n",
    "    circ.h(0)\n",
    "    circ.h(1)\n",
    "    circ.h(2)\n",
    "    circ.cz(0,2)\n",
    "    circ.cz(0,1)\n",
    "    circ.cz(1,2)\n",
    "\n",
    "    # apply conjugate of U\n",
    "    circ.cz(3,5)\n",
    "    circ.cz(4,5)\n",
    "    circ.cz(3,4)\n",
    "    circ.h(3)\n",
    "    circ.h(4)\n",
    "    circ.h(5)\n",
    "    circ.cz(3,5)\n",
    "    circ.cz(4,5)\n",
    "    circ.cz(3,4)   \n",
    "\n",
    "    # apply bell basis measurement\n",
    "    circ.cx(qubits_to_measure[0], qubits_to_measure[1])\n",
    "    circ.h(qubits_to_measure[1])\n",
    "    circ.measure(qubits_to_measure[0], qubits_to_measure[0])\n",
    "    circ.measure(qubits_to_measure[1], qubits_to_measure[1])\n",
    "    \n",
    "    # bob measurement\n",
    "    circ.measure(6,6) "
   ]
  },
  {
   "cell_type": "markdown",
   "id": "18158d53",
   "metadata": {},
   "source": [
    "## Tests"
   ]
  },
  {
   "cell_type": "code",
   "execution_count": 10,
   "id": "c606ff11",
   "metadata": {},
   "outputs": [
    {
     "name": "stdout",
     "output_type": "stream",
     "text": [
      "\n",
      " meas_pair_num_0:\tFidelity 49.796%\n",
      "\n",
      " meas_pair_num_1:\tFidelity 49.46%\n",
      "\n",
      " meas_pair_num_2:\tFidelity 49.88%\n"
     ]
    }
   ],
   "source": [
    "## TEST SIM 1:\n",
    "\n",
    "# test meas_pair_num 0\n",
    "meas_pair_num = 0\n",
    "\n",
    "# initiate 7 qubit circuit\n",
    "circ = QuantumCircuit(7,7)\n",
    "\n",
    "# apply protocol\n",
    "apply_7_prot(circ, meas_pair_num)\n",
    "\n",
    "# run on f_alma\n",
    "pct = 250\n",
    "shots = 100*pct\n",
    "qobj = assemble(circ, shots=shots)\n",
    "result = f_alma.run(qobj).result().get_counts()\n",
    "bob_meas_1 = sum([v for (k,v) in result.items() if k[0]==\"1\"])\n",
    "bob_meas_0 = sum([v for (k,v) in result.items() if k[0]==\"0\"])\n",
    "print(\"\\n meas_pair_num_0:\\tFidelity {}%\".format(bob_meas_1/pct))  \n",
    "\n",
    "\n",
    "## TEST SIM 2:\n",
    "\n",
    "# test meas_pair_num 1\n",
    "meas_pair_num = 1\n",
    "\n",
    "# initiate 7 qubit circuit\n",
    "circ = QuantumCircuit(7,7)\n",
    "\n",
    "# apply protocol\n",
    "apply_7_prot(circ, meas_pair_num)\n",
    "\n",
    "# run on f_alma\n",
    "pct = 250\n",
    "shots = 100*pct\n",
    "qobj = assemble(circ, shots=shots)\n",
    "result = f_alma.run(qobj).result().get_counts()\n",
    "bob_meas_1 = sum([v for (k,v) in result.items() if k[0]==\"1\"])\n",
    "bob_meas_0 = sum([v for (k,v) in result.items() if k[0]==\"0\"])\n",
    "print(\"\\n meas_pair_num_1:\\tFidelity {}%\".format(bob_meas_1/pct)) \n",
    "\n",
    "\n",
    "## TEST SIM 3:\n",
    "\n",
    "# test meas_pair_num 2\n",
    "meas_pair_num = 2\n",
    "\n",
    "# initiate 7 qubit circuit\n",
    "circ = QuantumCircuit(7,7)\n",
    "\n",
    "# apply protocol\n",
    "apply_7_prot(circ, meas_pair_num)\n",
    "\n",
    "# run on f_alma\n",
    "pct = 25\n",
    "shots = 100*pct\n",
    "qobj = assemble(circ, shots=shots)\n",
    "result = f_alma.run(qobj).result().get_counts()\n",
    "bob_meas_1 = sum([v for (k,v) in result.items() if k[0]==\"1\"])\n",
    "bob_meas_0 = sum([v for (k,v) in result.items() if k[0]==\"0\"])\n",
    "print(\"\\n meas_pair_num_2:\\tFidelity {}%\".format(bob_meas_1/pct)) "
   ]
  },
  {
   "cell_type": "markdown",
   "id": "97277ad2",
   "metadata": {},
   "source": [
    "# Alternative separate functions"
   ]
  },
  {
   "cell_type": "code",
   "execution_count": 11,
   "id": "c7123c2f",
   "metadata": {},
   "outputs": [],
   "source": [
    "def entangle_bell_pairs(circ, bell_pairs):\n",
    "    # Define many-body-system bell pairs\n",
    "    for pair in bell_pairs:\n",
    "        circ.h(pair[0])\n",
    "        circ.cx(pair[0],pair[1])\n",
    "\n",
    "def measure_bell_basis(circ, qubits_to_measure):\n",
    "    # apply bell basis measurement\n",
    "    circ.cx(qubits_to_measure[0], qubits_to_measure[1])\n",
    "    circ.h(qubits_to_measure[1])\n",
    "    circ.measure(qubits_to_measure[0], qubits_to_measure[0])\n",
    "    circ.measure(qubits_to_measure[1], qubits_to_measure[1])"
   ]
  },
  {
   "cell_type": "code",
   "execution_count": 12,
   "id": "890e0394",
   "metadata": {},
   "outputs": [],
   "source": [
    "def apply_telpro_7(circ):\n",
    "    \n",
    "    # for circ with 7 qubits\n",
    "\n",
    "    # apply scrambling unitary U\n",
    "    circ.cz(0,2)\n",
    "    circ.cz(0,1)\n",
    "    circ.cz(1,2)\n",
    "    circ.barrier(0,1,2)\n",
    "    circ.h(0)\n",
    "    circ.h(1)\n",
    "    circ.h(2)\n",
    "    circ.cz(0,2)\n",
    "    circ.cz(0,1)\n",
    "    circ.cz(1,2)\n",
    "\n",
    "    # apply conjugate of U\n",
    "    circ.cz(3,5)\n",
    "    circ.cz(4,5)\n",
    "    circ.cz(3,4)\n",
    "    circ.barrier(3,4,5)\n",
    "    circ.h(3)\n",
    "    circ.h(4)\n",
    "    circ.h(5)\n",
    "    circ.cz(3,5)\n",
    "    circ.cz(4,5)\n",
    "    circ.cz(3,4)  "
   ]
  },
  {
   "cell_type": "markdown",
   "id": "d006bd4a",
   "metadata": {},
   "source": [
    "## Tests"
   ]
  },
  {
   "cell_type": "code",
   "execution_count": 13,
   "id": "4c12b595",
   "metadata": {},
   "outputs": [
    {
     "name": "stdout",
     "output_type": "stream",
     "text": [
      "Fidelity 49.02%\n"
     ]
    }
   ],
   "source": [
    "# test teleportation for 7 qubits\n",
    "\n",
    "n = 7\n",
    "circ = QuantumCircuit(n,n)\n",
    "\n",
    "# teleportation circ\n",
    "entangle_bell_pairs(circ,bell_pairs=[[1,4],[2,3],[5,6]])\n",
    "apply_telpro_7(circ)\n",
    "measure_bell_basis(circ, qubits_to_measure=[2,3])\n",
    "measure_bell_basis(circ, qubits_to_measure=[5,6])\n",
    "\n",
    "# run on f_alma\n",
    "shots = 10000\n",
    "qobj = assemble(circ, shots=shots)\n",
    "result = f_alma.run(qobj).result().get_counts()\n",
    "bob_meas_1 = sum([v for (k,v) in result.items() if k[0]==\"1\"])\n",
    "bob_meas_0 = sum([v for (k,v) in result.items() if k[0]==\"0\"])\n",
    "print(\"Fidelity {}%\".format(bob_meas_1/100))  "
   ]
  },
  {
   "cell_type": "code",
   "execution_count": 14,
   "id": "b2535fbd",
   "metadata": {},
   "outputs": [
    {
     "name": "stdout",
     "output_type": "stream",
     "text": [
      "Fidelity 0.0%\n"
     ]
    }
   ],
   "source": [
    "# make telpo circ with one additional qubit\n",
    "\n",
    "n = 7 + 1\n",
    "circ = QuantumCircuit(n,n)\n",
    "\n",
    "# teleportation circ\n",
    "entangle_bell_pairs(circ,bell_pairs=[[1,4],[2,3],[5,6]])\n",
    "apply_telpro_7(circ)\n",
    "measure_bell_basis(circ, qubits_to_measure=[2,3])\n",
    "measure_bell_basis(circ, qubits_to_measure=[5,6])\n",
    "\n",
    "# run on f_alma\n",
    "shots = 10000\n",
    "qobj = assemble(circ, shots=shots)\n",
    "result = f_alma.run(qobj).result().get_counts()\n",
    "bob_meas_1 = sum([v for (k,v) in result.items() if k[0]==\"1\"])\n",
    "bob_meas_0 = sum([v for (k,v) in result.items() if k[0]==\"0\"])\n",
    "print(\"Fidelity {}%\".format(bob_meas_1/100)) "
   ]
  }
 ],
 "metadata": {
  "kernelspec": {
   "display_name": "metal",
   "language": "python",
   "name": "metal"
  },
  "language_info": {
   "codemirror_mode": {
    "name": "ipython",
    "version": 3
   },
   "file_extension": ".py",
   "mimetype": "text/x-python",
   "name": "python",
   "nbconvert_exporter": "python",
   "pygments_lexer": "ipython3",
   "version": "3.7.8"
  }
 },
 "nbformat": 4,
 "nbformat_minor": 5
}
