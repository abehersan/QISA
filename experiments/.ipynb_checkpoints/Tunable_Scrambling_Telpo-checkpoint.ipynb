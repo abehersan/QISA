{
 "cells": [
  {
   "cell_type": "markdown",
   "id": "e9a24ec4",
   "metadata": {},
   "source": [
    "# Tunable Scrambling Circuit\n",
    "\n",
    "Reproduce Us(α) Ud(α) Teleportation Circuit designed to probe the OTOC and teleportation fidelity as a function of the scrambling parameter α with α = 0 representing no scrambling and α = 1 representing full scrambling.\n",
    "\n",
    "Reference: Verified Quantum Information Scrambling https://arxiv.org/abs/1806.02807\n",
    "\n",
    "![paper](.\\\\pics\\\\Telpo1_Tunable_Scrambling_Circ.jpg)\n",
    "\n",
    "![experiment](.\\\\pics\\\\Telpo2_Tunable_Scrambling_Circ.jpg)\n",
    "\n",
    "Tunable Circ:\n",
    "\n",
    "![tunable](.\\\\pics\\\\Telpo3_Tunable_Scrambling_Circ.jpg)\n",
    "\n",
    "From Scrambling Library\n",
    "![tunablegrover](.\\\\pics\\\\Tunable_Scrambling_Grover_Circ.jpg)"
   ]
  },
  {
   "cell_type": "code",
   "execution_count": 28,
   "id": "0e3f840b",
   "metadata": {},
   "outputs": [
    {
     "name": "stderr",
     "output_type": "stream",
     "text": [
      "ibmqfactory.load_account:WARNING:2021-05-14 20:22:00,041: Credentials are already in use. The existing account in the session will be replaced.\n"
     ]
    }
   ],
   "source": [
    "%matplotlib inline\n",
    "import matplotlib, qiskit, pprint\n",
    "from matplotlib import pyplot as plt\n",
    "import numpy as np\n",
    "from numpy import pi\n",
    "from qiskit import QuantumRegister, ClassicalRegister, QuantumCircuit, Aer, IBMQ, transpile, schedule, assemble\n",
    "from qiskit.providers.aer import QasmSimulator\n",
    "from qiskit.test.mock import FakeAlmaden, FakeMelbourne\n",
    "from qiskit.compiler import transpile\n",
    "from qiskit.quantum_info.operators import Operator\n",
    "\n",
    "# load account\n",
    "IBMQ.load_account()\n",
    "provider = IBMQ.get_provider(hub='ibm-q', group='open', project='main')\n",
    "\n",
    "# simulators:\n",
    "f_alma = FakeAlmaden() # simulator f_alma for pulse schedules\n",
    "f_mel = FakeMelbourne() # simulator f_mel for simulator backend mel\n",
    "qasm_simulator = Aer.get_backend('qasm_simulator') "
   ]
  },
  {
   "cell_type": "markdown",
   "id": "02b589ba",
   "metadata": {},
   "source": [
    "# Functions"
   ]
  },
  {
   "cell_type": "code",
   "execution_count": 9,
   "id": "c7add620",
   "metadata": {},
   "outputs": [],
   "source": [
    "# funcs for bell pair entanglement and disentanglement\n",
    "\n",
    "def entangle_bell_pairs(circ, bell_pairs):\n",
    "    # Define many-body-system bell pairs\n",
    "    for pair in bell_pairs:\n",
    "        circ.h(pair[0])\n",
    "        circ.cx(pair[0],pair[1])\n",
    "\n",
    "def disentangle_bell_pair(circ, pair):\n",
    "    circ.cx(pair[0], pair[1])\n",
    "    circ.h(pair[0])\n",
    "    \n",
    "# func to insert bell pair measurement\n",
    "\n",
    "def insert_bell_measurement(circ, pair):\n",
    "    circ.barrier()\n",
    "    circ.cx(pair[0],pair[1])\n",
    "    circ.h(pair[0])\n",
    "    circ.measure(pair[0],pair[0])\n",
    "    circ.measure(pair[1],pair[1])\n",
    "    circ.barrier()"
   ]
  },
  {
   "cell_type": "code",
   "execution_count": 30,
   "id": "b2fd6047",
   "metadata": {},
   "outputs": [],
   "source": [
    "def apply_grover(circ,pair):\n",
    "    from numpy import pi\n",
    "    circ.rz(pi,pair[0])\n",
    "    circ.rx(pi,pair[0])\n",
    "    circ.rx(pi,pair[1])\n",
    "    circ.swap(pair[0],pair[1])\n",
    "    circ.rz(pi,pair[0])"
   ]
  },
  {
   "cell_type": "code",
   "execution_count": 31,
   "id": "f54417ee",
   "metadata": {},
   "outputs": [],
   "source": [
    "# find initial bell pairs for n qubit circ\n",
    "\n",
    "def get_bell_pairs(circ):\n",
    "\n",
    "    n = len(circ.qubits)\n",
    "    # make pairings:\n",
    "    if n%2 != 0:\n",
    "        initalsys = [x for x in range(n)][1:-1] # put first and last qubits aside for initial entanglement of the system\n",
    "        pairs = [[item,initalsys[int(len(initalsys)/2):][number]]\n",
    "                         for (number,item) in enumerate(reversed(initalsys[:int(len(initalsys)/2)]))]\n",
    "    else:\n",
    "        print(\"Find out how to deal with even number circ, Hannah!\")\n",
    "    # append pair bob and q before bob:   \n",
    "    pairs.append([n-2, n-1]) \n",
    "    \n",
    "    return pairs\n",
    "\n",
    "\n",
    "# func to get structure of n qubit circ\n",
    "\n",
    "def get_unitary_pairs(circ):\n",
    "    \n",
    "    if n%2 != 0:\n",
    "        upper_qs = [x for x in range(n-1)][:int(n/2)]\n",
    "        lower_qs = [x for x in range(n-1)][int(n/2):]\n",
    "    else:\n",
    "        print(\"Find out how to deal with even number circ, Hannah!\")\n",
    "    \n",
    "    upper_pairs = sorted([(upper_qs[i],upper_qs[i+1]) \n",
    "                   for i in range(len(upper_qs)-1)] + [(upper_qs[i],upper_qs[i+2]) \n",
    "                                                       for i in range(len(upper_qs)-2)])\n",
    "\n",
    "    lower_pairs = sorted([(lower_qs[i],lower_qs[i+1]) \n",
    "                   for i in range(len(lower_qs)-1)] + [(lower_qs[i],lower_qs[i+2]) \n",
    "                                                       for i in range(len(lower_qs)-2)])\n",
    "    \n",
    "    lower_pairs = [x for x in reversed(lower_pairs)]\n",
    "    \n",
    "    return upper_pairs, lower_pairs"
   ]
  },
  {
   "cell_type": "code",
   "execution_count": 32,
   "id": "4e0b3294",
   "metadata": {},
   "outputs": [],
   "source": [
    "# func to return thet for Z rotation from Unitary parameter alpha\n",
    "\n",
    "def get_theta_from_alpha(alpha):\n",
    "    return (alpha*pi)/2"
   ]
  },
  {
   "cell_type": "code",
   "execution_count": 33,
   "id": "15b0dcfc",
   "metadata": {},
   "outputs": [],
   "source": [
    "# func to apply tunable scrambling Unitary (upper half of circuit)\n",
    "\n",
    "def tunable_srambling_U(circ, alpha):\n",
    "    \n",
    "    upper_pairs, _ =  get_unitary_pairs(circ)   \n",
    "    theta = get_theta_from_alpha(alpha)\n",
    "    qubit_inums = [x for x in range(int(len(circ.qubits)/2))]\n",
    "    \n",
    "    # U and U*\n",
    "    for pair in upper_pairs:\n",
    "        circ.rxx(-pi/4, pair[0],pair[1]) # rxx -pi/4 all\n",
    "    circ.barrier(qubit_inums)\n",
    "    for i in qubit_inums:\n",
    "        circ.rz(-theta,i)                # rz -theta all\n",
    "    for pair in upper_pairs:\n",
    "        circ.rxx(-pi/4, pair[0],pair[1]) # rxx -pi/4 all\n",
    "    circ.barrier(qubit_inums)\n",
    "    for i in qubit_inums:\n",
    "        circ.rz(theta,i)                 # rz +theta all"
   ]
  },
  {
   "cell_type": "code",
   "execution_count": 34,
   "id": "fdf06b21",
   "metadata": {},
   "outputs": [],
   "source": [
    "# func to apply tunable scrambling Unitary transpose (lower half of circuit)\n",
    "\n",
    "def tunable_srambling_U_transpose(circ, alpha):\n",
    "    \n",
    "    _, lower_pairs =  get_unitary_pairs(circ)   \n",
    "    theta = get_theta_from_alpha(alpha)\n",
    "    qubit_inums = [x for x in range(int(len(circ.qubits)/2),len(circ.qubits))]\n",
    "    \n",
    "    # U and U*\n",
    "    for pair in lower_pairs:\n",
    "        circ.rxx(-pi/4, pair[0],pair[1]) # rxx -pi/4 all\n",
    "    circ.barrier(qubit_inums)\n",
    "    for i in qubit_inums:\n",
    "        circ.rz(-theta,i)                # rz -theta all\n",
    "    for pair in lower_pairs:\n",
    "        circ.rxx(-pi/4, pair[0],pair[1]) # rxx -pi/4 all\n",
    "    circ.barrier(qubit_inums)\n",
    "    for i in qubit_inums:\n",
    "        circ.rz(theta,i)                 # rz +theta all"
   ]
  },
  {
   "cell_type": "markdown",
   "id": "60777dc1",
   "metadata": {},
   "source": [
    "# Tests:"
   ]
  },
  {
   "cell_type": "code",
   "execution_count": 39,
   "id": "b0afd3f4",
   "metadata": {},
   "outputs": [
    {
     "name": "stdout",
     "output_type": "stream",
     "text": [
      "Theta for alpha=1: 1.5707963267948966\n",
      "\n",
      " fake_melbourne\n",
      "\n",
      " Fidelity Bob Qubit: \t61.82%\n",
      "\n",
      " Fidelity Bob Partner: \t42.46%\n",
      "\n",
      " Fidelity Base Meas A: \t35.69%\n",
      "\n",
      " Fidelity Base Meas B: \t36.1%\n"
     ]
    },
    {
     "data": {
      "image/png": "[encoded data removed]",
      "text/plain": [
       "<Figure size 1591.6x1047.48 with 1 Axes>"
      ]
     },
     "execution_count": 39,
     "metadata": {},
     "output_type": "execute_result"
    }
   ],
   "source": [
    "########################### set alpha #####################################\n",
    "\n",
    "alpha = 1\n",
    "print(\"Theta for alpha={}:\".format(alpha),get_theta_from_alpha(alpha))\n",
    "\n",
    "########################### circuit and structure #########################\n",
    "\n",
    "# set number of qubits\n",
    "n = 7\n",
    "\n",
    "# circ \n",
    "circ = QuantumCircuit(n,n)\n",
    "# structure \n",
    "bell_pairs = get_bell_pairs(circ)\n",
    "upper_pairs, lower_pairs = get_unitary_pairs(circ)\n",
    "# pairs for mesurements\n",
    "basemeas = bell_pairs[0]\n",
    "bob_pair = bell_pairs[-1]\n",
    "# inums for results\n",
    "meas_a_i, meas_b_i = -1 * (basemeas[0]+1), -1 * (basemeas[1]+1)\n",
    "bob_imeas, bob_pmeas = 0, 1\n",
    "\n",
    "########################### apply protocol ################################\n",
    "\n",
    "# 1. entangle EPR pairs\n",
    "entangle_bell_pairs(circ, bell_pairs)\n",
    "circ.barrier()\n",
    "\n",
    "# 2. apply tunable protocol for scrambling and grover\n",
    "tunable_srambling_U(circ, alpha)\n",
    "tunable_srambling_U_transpose(circ, alpha)\n",
    "apply_grover(circ,[2,3])\n",
    "tunable_srambling_U_transpose(circ, alpha)\n",
    "apply_grover(circ,[5,6])\n",
    "\n",
    "# 3. measure base EPR pair \n",
    "insert_bell_measurement(circ,basemeas)\n",
    "\n",
    "# 4. measure Bob paair\n",
    "insert_bell_measurement(circ,bob_pair)\n",
    "\n",
    "########################### run simulation ################################\n",
    "\n",
    "be = f_mel\n",
    "pct = 100\n",
    "shots = 100*pct\n",
    "qobj = assemble(circ, shots=shots)\n",
    "result = be.run(qobj).result().get_counts()\n",
    "\n",
    "############################ see results ##################################\n",
    "\n",
    "bob_meas_1  = sum([v for (k,v) in result.items() if k[bob_imeas]==\"1\"])\n",
    "bob_p_meas_1 = sum([v for (k,v) in result.items() if k[bob_pmeas]==\"1\"])\n",
    "meas1_1 = sum([v for (k,v) in result.items() if k[meas_a_i]==\"1\"])\n",
    "meas2_1 =  sum([v for (k,v) in result.items() if k[meas_b_i]==\"1\"])\n",
    "print(\"\\n\",be)\n",
    "print(\"\\n Fidelity Bob Qubit: \\t{}%\".format(bob_meas_1/pct)) \n",
    "print(\"\\n Fidelity Bob Partner: \\t{}%\".format(bob_p_meas_1/pct)) \n",
    "print(\"\\n Fidelity Base Meas A: \\t{}%\".format(meas1_1/pct)) \n",
    "print(\"\\n Fidelity Base Meas B: \\t{}%\".format(meas2_1/pct)) \n",
    "#pprint.pprint(result)\n",
    "\n",
    "############################ see circuit ##################################\n",
    "\n",
    "circ.draw('mpl', plot_barriers=False)"
   ]
  },
  {
   "cell_type": "code",
   "execution_count": null,
   "id": "79006a08",
   "metadata": {},
   "outputs": [],
   "source": []
  }
 ],
 "metadata": {
  "kernelspec": {
   "display_name": "metal",
   "language": "python",
   "name": "metal"
  },
  "language_info": {
   "codemirror_mode": {
    "name": "ipython",
    "version": 3
   },
   "file_extension": ".py",
   "mimetype": "text/x-python",
   "name": "python",
   "nbconvert_exporter": "python",
   "pygments_lexer": "ipython3",
   "version": "3.7.8"
  }
 },
 "nbformat": 4,
 "nbformat_minor": 5
}
