{
 "cells": [
  {
   "cell_type": "code",
   "execution_count": 1,
   "id": "c9c56d2b",
   "metadata": {},
   "outputs": [],
   "source": [
    "%matplotlib inline\n",
    "import matplotlib, qiskit\n",
    "from matplotlib import pyplot as plt\n",
    "import numpy as np\n",
    "from numpy import pi\n",
    "from qiskit import QuantumRegister, ClassicalRegister, QuantumCircuit, Aer, IBMQ, transpile, schedule, assemble\n",
    "from qiskit.providers.aer import QasmSimulator\n",
    "from qiskit.test.mock import FakeAlmaden, FakeMelbourne\n",
    "# load account\n",
    "IBMQ.load_account()\n",
    "provider = IBMQ.get_provider(hub='ibm-q', group='open', project='main')\n",
    "# simulators:\n",
    "f_alma = FakeAlmaden() # simulator f_alma for pulse schedules\n",
    "f_mel = FakeMelbourne() # simulator f_mel for simulator backend mel"
   ]
  },
  {
   "cell_type": "markdown",
   "id": "c16a0557",
   "metadata": {},
   "source": [
    "# 7 Qubit Tunable Scrambling Circuit\n",
    "\n",
    "Reproduce Us(α) Ud(α) Teleportation Circuit designed to probe the OTOC and teleportation fidelity as a function of the scrambling parameter α with α = 0 representing no scrambling and α = 1 representing full scrambling.\n",
    "\n",
    "Reference: Verified Quantum Information Scrambling https://arxiv.org/abs/1806.02807\n",
    "\n",
    "![paper](.\\\\pics\\\\Telpo1_Tunable_Scrambling_Circ.jpg)\n",
    "\n",
    "![experiment](.\\\\pics\\\\Telpo2_Tunable_Scrambling_Circ.jpg)\n",
    "\n",
    "Tunable Circ:\n",
    "\n",
    "![tunable](.\\\\pics\\\\Telpo3_Tunable_Scrambling_Circ.jpg)"
   ]
  },
  {
   "cell_type": "markdown",
   "id": "56f2b46f",
   "metadata": {},
   "source": [
    "## General Functions:"
   ]
  },
  {
   "cell_type": "code",
   "execution_count": 2,
   "id": "70ed9ee4",
   "metadata": {},
   "outputs": [],
   "source": [
    "# funcs for bell pair entanglement and measurement\n",
    "\n",
    "def entangle_bell_pairs(circ, bell_pairs):\n",
    "    # Define many-body-system bell pairs\n",
    "    for pair in bell_pairs:\n",
    "        circ.h(pair[0])\n",
    "        circ.cx(pair[0],pair[1])\n",
    "\n",
    "def disentangle_bell_pair(circ, pair):\n",
    "    circ.cx(pair[0], pair[1])\n",
    "    circ.h(pair[0])"
   ]
  },
  {
   "cell_type": "code",
   "execution_count": 3,
   "id": "f2da1655",
   "metadata": {},
   "outputs": [],
   "source": [
    "# func to return thet for Z rotation from Unitary parameter alpha\n",
    "\n",
    "def get_theta_from_alpha(alpha):\n",
    "    return (alpha*pi)/2"
   ]
  },
  {
   "cell_type": "code",
   "execution_count": 4,
   "id": "4d12bd05",
   "metadata": {},
   "outputs": [],
   "source": [
    "# find initial bell pairs for n qubit circ\n",
    "\n",
    "def get_bell_pairs(circ):\n",
    "\n",
    "    n = len(circ.qubits)\n",
    "    # make pairings:\n",
    "    if n%2 != 0:\n",
    "        initalsys = [x for x in range(n)][1:-1] # put first and last qubits aside for initial entanglement of the system\n",
    "        pairs = [[item,initalsys[int(len(initalsys)/2):][number]]\n",
    "                         for (number,item) in enumerate(reversed(initalsys[:int(len(initalsys)/2)]))]\n",
    "    else:\n",
    "        print(\"Find out how to deal with even number circ, Hannah!\")\n",
    "    # append pair bob and q before bob:   \n",
    "    pairs.append([n-2, n-1]) \n",
    "    \n",
    "    return pairs"
   ]
  },
  {
   "cell_type": "code",
   "execution_count": 5,
   "id": "03f1d93d",
   "metadata": {},
   "outputs": [],
   "source": [
    "# finc to get structure of scrambling U and U* for n qubit circ\n",
    "\n",
    "def get_unitary_pairs(circ):\n",
    "    \n",
    "    if n%2 != 0:\n",
    "        upper_qs = [x for x in range(n-1)][:int(n/2)]\n",
    "        lower_qs = [x for x in range(n-1)][int(n/2):]\n",
    "    else:\n",
    "        print(\"Find out how to deal with even number circ, Hannah!\")\n",
    "    \n",
    "    upper_pairs = sorted([(upper_qs[i],upper_qs[i+1]) \n",
    "                   for i in range(len(upper_qs)-1)] + [(upper_qs[i],upper_qs[i+2]) \n",
    "                                                       for i in range(len(upper_qs)-2)])\n",
    "\n",
    "    lower_pairs = sorted([(lower_qs[i],lower_qs[i+1]) \n",
    "                   for i in range(len(lower_qs)-1)] + [(lower_qs[i],lower_qs[i+2]) \n",
    "                                                       for i in range(len(lower_qs)-2)])\n",
    "    \n",
    "    lower_pairs = [x for x in reversed(lower_pairs)]\n",
    "    \n",
    "    return upper_pairs, lower_pairs"
   ]
  },
  {
   "cell_type": "code",
   "execution_count": 6,
   "id": "72fb58cc",
   "metadata": {},
   "outputs": [],
   "source": [
    "# func to apply XX gate layer to circ\n",
    "\n",
    "def apply_tunable_srambling(circ, alpha):\n",
    "    \n",
    "    upper_pairs, lower_pairs =  get_unitary_pairs(circ)   \n",
    "    theta = get_theta_from_alpha(alpha)\n",
    "\n",
    "    # U and U*\n",
    "    for pair in upper_pairs+lower_pairs:\n",
    "        circ.rxx(-pi/4, pair[0],pair[1]) # rxx -pi/4 all\n",
    "    circ.barrier()\n",
    "    for i in range(n-1):\n",
    "        circ.rz(-theta,i)                # rz -theta all\n",
    "    for pair in upper_pairs+lower_pairs:\n",
    "        circ.rxx(-pi/4, pair[0],pair[1]) # rxx -pi/4 all\n",
    "    circ.barrier()\n",
    "    for i in range(n-1):\n",
    "        circ.rz(theta,i)                 # rz +theta all\n",
    "    \n",
    "    # U transpose\n",
    "    circ.barrier()\n",
    "    for pair in lower_pairs:\n",
    "        circ.rxx(-pi/4, pair[0],pair[1]) # rxx -pi/4 lower half\n",
    "    circ.barrier()\n",
    "    for i in range(int((n-1)/2),n-1):\n",
    "        circ.rz(-theta,i)                # rz -theta lower half\n",
    "    for pair in lower_pairs:\n",
    "        circ.rxx(-pi/4, pair[0],pair[1]) # rxx -pi/4 lower half\n",
    "    circ.barrier()\n",
    "    for i in range(int((n-1)/2),n-1):\n",
    "        circ.rz(theta,i)                # rz +theta lower half"
   ]
  },
  {
   "cell_type": "code",
   "execution_count": 7,
   "id": "27ca6f71",
   "metadata": {},
   "outputs": [],
   "source": [
    "# func to insert bob meas into circ\n",
    "\n",
    "def insert_bob_measurement(circ):\n",
    "    circ.barrier()\n",
    "    circ.cx(5,6)\n",
    "    circ.h(5)\n",
    "    circ.measure(5,5)\n",
    "    circ.measure(6,6)\n",
    "    circ.barrier()"
   ]
  },
  {
   "cell_type": "markdown",
   "id": "3c11cf0e",
   "metadata": {},
   "source": [
    "# Tests:"
   ]
  },
  {
   "cell_type": "markdown",
   "id": "642f53c4",
   "metadata": {},
   "source": [
    "### alpha = 0"
   ]
  },
  {
   "cell_type": "code",
   "execution_count": 8,
   "id": "664b33a1",
   "metadata": {},
   "outputs": [
    {
     "name": "stdout",
     "output_type": "stream",
     "text": [
      "Theta according to alpha=0: 0.0\n",
      "\n",
      " Fidelity q5: \t7.26%\n",
      "\n",
      " Fidelity q6: \t32.36%\n"
     ]
    },
    {
     "data": {
      "image/png": "[encoded data removed]",
      "text/plain": [
       "<Figure size 1411x505.68 with 1 Axes>"
      ]
     },
     "execution_count": 8,
     "metadata": {},
     "output_type": "execute_result"
    }
   ],
   "source": [
    "n = 7\n",
    "circ = QuantumCircuit(n,n)\n",
    "\n",
    "alpha = 0\n",
    "print(\"Theta according to alpha={}:\".format(alpha),get_theta_from_alpha(alpha))\n",
    "\n",
    "bell_pairs = get_bell_pairs(circ)\n",
    "entangle_bell_pairs(circ, bell_pairs)\n",
    "circ.barrier()\n",
    "\n",
    "apply_tunable_srambling(circ, alpha)\n",
    "\n",
    "circ.barrier()\n",
    "for pair in bell_pairs:\n",
    "    disentangle_bell_pair(circ,pair)\n",
    "circ.measure(5,5)\n",
    "circ.measure(6,6)\n",
    "\n",
    "# run on f_mel\n",
    "pct = 100\n",
    "shots = 100*pct\n",
    "qobj = assemble(circ, shots=shots)\n",
    "result = f_mel.run(qobj).result().get_counts()\n",
    "\n",
    "bob_meas_1 = sum([v for (k,v) in result.items() if k[0]==\"1\"])\n",
    "bob_meas_0 = sum([v for (k,v) in result.items() if k[0]==\"0\"])\n",
    "q5_1 = sum([v for (k,v) in result.items() if k[1]==\"1\"])\n",
    "q5_0 = sum([v for (k,v) in result.items() if k[1]==\"0\"])\n",
    "\n",
    "print(\"\\n Fidelity q5: \\t{}%\".format(q5_1/pct)) \n",
    "print(\"\\n Fidelity q6: \\t{}%\".format(bob_meas_1/pct)) \n",
    "\n",
    "circ.draw('mpl', plot_barriers=False)"
   ]
  },
  {
   "cell_type": "markdown",
   "id": "df322c32",
   "metadata": {},
   "source": [
    "### alpha = 0.5"
   ]
  },
  {
   "cell_type": "code",
   "execution_count": null,
   "id": "1a007a16",
   "metadata": {},
   "outputs": [
    {
     "name": "stdout",
     "output_type": "stream",
     "text": [
      "Theta according to alpha 0.5: 0.7853981633974483\n",
      "\n",
      " Fidelity q5: \t13.62%\n",
      "\n",
      " Fidelity q6: \t39.82%\n"
     ]
    }
   ],
   "source": [
    "n = 7\n",
    "circ = QuantumCircuit(n,n)\n",
    "\n",
    "alpha = 0.5\n",
    "print(\"Theta according to alpha {}:\".format(alpha),get_theta_from_alpha(alpha))\n",
    "\n",
    "bell_pairs = get_bell_pairs(circ)\n",
    "entangle_bell_pairs(circ, bell_pairs)\n",
    "circ.barrier()\n",
    "\n",
    "apply_tunable_srambling(circ, alpha)\n",
    "\n",
    "circ.barrier()\n",
    "for pair in bell_pairs:\n",
    "    disentangle_bell_pair(circ,pair)\n",
    "circ.measure(5,5)\n",
    "circ.measure(6,6)\n",
    "\n",
    "# run on f_mel\n",
    "pct = 100\n",
    "shots = 100*pct\n",
    "qobj = assemble(circ, shots=shots)\n",
    "result = f_mel.run(qobj).result().get_counts()\n",
    "\n",
    "bob_meas_1 = sum([v for (k,v) in result.items() if k[0]==\"1\"])\n",
    "bob_meas_0 = sum([v for (k,v) in result.items() if k[0]==\"0\"])\n",
    "q5_1 = sum([v for (k,v) in result.items() if k[1]==\"1\"])\n",
    "q5_0 = sum([v for (k,v) in result.items() if k[1]==\"0\"])\n",
    "\n",
    "print(\"\\n Fidelity q5: \\t{}%\".format(q5_1/pct)) \n",
    "print(\"\\n Fidelity q6: \\t{}%\".format(bob_meas_1/pct)) \n",
    "\n",
    "circ.draw('mpl', plot_barriers=False)"
   ]
  },
  {
   "cell_type": "markdown",
   "id": "e027bcaa",
   "metadata": {},
   "source": [
    "### alpha = 1"
   ]
  },
  {
   "cell_type": "code",
   "execution_count": null,
   "id": "64faaea1",
   "metadata": {},
   "outputs": [],
   "source": [
    "n = 7\n",
    "circ = QuantumCircuit(n,n)\n",
    "\n",
    "alpha = 1\n",
    "print(\"Theta according to alpha {}:\".format(alpha),get_theta_from_alpha(alpha))\n",
    "\n",
    "bell_pairs = get_bell_pairs(circ)\n",
    "entangle_bell_pairs(circ, bell_pairs)\n",
    "circ.barrier()\n",
    "\n",
    "apply_tunable_srambling(circ, alpha)\n",
    "\n",
    "circ.barrier()\n",
    "for pair in bell_pairs:\n",
    "    disentangle_bell_pair(circ,pair)\n",
    "circ.measure(5,5)\n",
    "circ.measure(6,6)\n",
    "\n",
    "# run on f_alma\n",
    "pct = 100\n",
    "shots = 100*pct\n",
    "qobj = assemble(circ, shots=shots)\n",
    "result = f_mel.run(qobj).result().get_counts()\n",
    "\n",
    "bob_meas_1 = sum([v for (k,v) in result.items() if k[0]==\"1\"])\n",
    "bob_meas_0 = sum([v for (k,v) in result.items() if k[0]==\"0\"])\n",
    "q5_1 = sum([v for (k,v) in result.items() if k[1]==\"1\"])\n",
    "q5_0 = sum([v for (k,v) in result.items() if k[1]==\"0\"])\n",
    "\n",
    "print(\"\\n Fidelity q5: \\t{}%\".format(q5_1/pct)) \n",
    "print(\"\\n Fidelity q6: \\t{}%\".format(bob_meas_1/pct)) \n",
    "\n",
    "circ.draw('mpl', plot_barriers=False)"
   ]
  },
  {
   "cell_type": "code",
   "execution_count": null,
   "id": "6baef9a3",
   "metadata": {},
   "outputs": [],
   "source": []
  },
  {
   "cell_type": "code",
   "execution_count": null,
   "id": "cdccd64d",
   "metadata": {},
   "outputs": [],
   "source": []
  }
 ],
 "metadata": {
  "kernelspec": {
   "display_name": "metal",
   "language": "python",
   "name": "metal"
  },
  "language_info": {
   "codemirror_mode": {
    "name": "ipython",
    "version": 3
   },
   "file_extension": ".py",
   "mimetype": "text/x-python",
   "name": "python",
   "nbconvert_exporter": "python",
   "pygments_lexer": "ipython3",
   "version": "3.7.8"
  }
 },
 "nbformat": 4,
 "nbformat_minor": 5
}
