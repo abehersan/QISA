{
 "cells": [
  {
   "cell_type": "markdown",
   "id": "cf5736ab",
   "metadata": {},
   "source": [
    "# The Quantum Information Scrambling Verification Test\n"
   ]
  },
  {
   "cell_type": "markdown",
   "id": "31b8def7",
   "metadata": {},
   "source": [
    "Reference: [Verified quantum information scrambling [arXiv:1806.02807]](https://arxiv.org/abs/1806.02807)\n",
    "\n"
   ]
  },
  {
   "cell_type": "markdown",
   "id": "0aaecd0d",
   "metadata": {},
   "source": [
    "## BASIC IDEA\n",
    "\n",
    "Verify scrambling in terms of many-body teleportation fidelity."
   ]
  },
  {
   "cell_type": "markdown",
   "id": "c60e836e",
   "metadata": {},
   "source": [
    "![Wormhole](.\\\\pics\\\\wormhole.jpg)"
   ]
  },
  {
   "cell_type": "markdown",
   "id": "78e6d8aa",
   "metadata": {},
   "source": [
    "## IMPLEMENTATION\n",
    "\n",
    "Our hardware efficient implementation offers a sandbox to explore the scrambling properties of n-qubit operators, test the scrambling properties of custom gate sets, or apply tunable scrambling to a circuit.\n",
    "\n"
   ]
  },
  {
   "cell_type": "markdown",
   "id": "d778ad65",
   "metadata": {},
   "source": [
    "## DEMO"
   ]
  },
  {
   "cell_type": "code",
   "execution_count": null,
   "id": "8b69f980",
   "metadata": {},
   "outputs": [],
   "source": []
  }
 ],
 "metadata": {
  "kernelspec": {
   "display_name": "metal",
   "language": "python",
   "name": "metal"
  },
  "language_info": {
   "codemirror_mode": {
    "name": "ipython",
    "version": 3
   },
   "file_extension": ".py",
   "mimetype": "text/x-python",
   "name": "python",
   "nbconvert_exporter": "python",
   "pygments_lexer": "ipython3",
   "version": "3.7.8"
  }
 },
 "nbformat": 4,
 "nbformat_minor": 5
}
