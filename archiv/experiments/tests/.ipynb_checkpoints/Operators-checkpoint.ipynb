{
 "cells": [
  {
   "cell_type": "code",
   "execution_count": 1,
   "id": "bba51a49",
   "metadata": {},
   "outputs": [],
   "source": [
    "import numpy as np\n",
    "from qiskit import QuantumCircuit, ClassicalRegister, QuantumRegister, execute, BasicAer\n",
    "from qiskit.compiler import transpile\n",
    "from qiskit.quantum_info.operators import Operator, Pauli, process_fidelity\n",
    "from qiskit.extensions import RXGate, XGate, CXGate\n",
    "\n",
    "from utils import *"
   ]
  },
  {
   "cell_type": "markdown",
   "id": "e4a61512",
   "metadata": {},
   "source": [
    "# Scrambling Operators"
   ]
  },
  {
   "cell_type": "markdown",
   "id": "aa94aeed",
   "metadata": {},
   "source": [
    "## Us\n",
    "\n",
    "Reference: http://iontrap.umd.edu/wp-content/uploads/2013/10/FiggattThesis.pdf\n",
    "\n",
    "\n",
    "From Scrambling Library\n",
    "![Us_525.jpg](.\\\\pics\\\\Us_525.jpg)"
   ]
  },
  {
   "cell_type": "code",
   "execution_count": 2,
   "id": "665fb19b",
   "metadata": {},
   "outputs": [],
   "source": [
    "# Scrambling Operator Us\n",
    "\n",
    "Us = Operator([[-1,0,0,-1,0,-1,-1,0], \n",
    "               [0,1,-1,0,-1,0,0,1], \n",
    "               [0,-1,1,0,-1,0,0,1], \n",
    "               [1,0,0,1,0,-1,-1,0],\n",
    "               [0,-1,-1,0,1,0,0,1],\n",
    "               [1,0,0,-1,0,1,-1,0],\n",
    "               [1,0,0,-1,0,-1,1,0],\n",
    "               [0,-1,-1,0,-1,0,0,-1]\n",
    "              ])\n",
    "\n",
    "Us = 1/2*Us"
   ]
  },
  {
   "cell_type": "markdown",
   "id": "4467655b",
   "metadata": {},
   "source": [
    "# Test:"
   ]
  },
  {
   "cell_type": "code",
   "execution_count": 3,
   "id": "f9a9e9b3",
   "metadata": {},
   "outputs": [],
   "source": [
    "from qiskit.test.mock import FakeAlmaden, FakeMelbourne\n",
    "from qiskit import QuantumRegister, ClassicalRegister, QuantumCircuit, Aer, IBMQ, transpile, schedule, assemble\n",
    "\n",
    "# load account\n",
    "IBMQ.load_account()\n",
    "provider = IBMQ.get_provider(hub='ibm-q', group='open', project='main')\n",
    "\n",
    "# simulators:\n",
    "f_alma = FakeAlmaden() # simulator f_alma for pulse schedules\n",
    "f_mel = FakeMelbourne() # simulator f_mel for simulator backend mel"
   ]
  },
  {
   "cell_type": "code",
   "execution_count": 6,
   "id": "deb929b3",
   "metadata": {},
   "outputs": [
    {
     "name": "stdout",
     "output_type": "stream",
     "text": [
      "\n",
      " fake_melbourne\n",
      "\n",
      " Fidelity Bob Qubit: \t60.67%\n",
      "\n",
      " Fidelity Bob Partner: \t45.77%\n",
      "\n",
      " Fidelity Base Meas A: \t45.37%\n",
      "\n",
      " Fidelity Base Meas B: \t46.42%\n"
     ]
    },
    {
     "data": {
      "image/png": "[encoded data removed]",
      "text/plain": [
       "<Figure size 748.797x505.68 with 1 Axes>"
      ]
     },
     "execution_count": 6,
     "metadata": {},
     "output_type": "execute_result"
    }
   ],
   "source": [
    "########################### circuit and structure #########################\n",
    "\n",
    "n = 7\n",
    "circ = QuantumCircuit(n,n)\n",
    "\n",
    "bell_pairs = get_bell_pairs(circ)\n",
    "upper_pairs, lower_pairs = get_unitary_pairs(circ)\n",
    "\n",
    "basemeas, bob_pair = bell_pairs[0], bell_pairs[-1]\n",
    "meas_a_i, meas_b_i = -1 * (basemeas[0]+1), -1 * (basemeas[1]+1)\n",
    "\n",
    "###################### apply protocol via Unitary Us ######################\n",
    "\n",
    "bell_pairs = get_bell_pairs(circ)\n",
    "entangle_bell_pairs(circ, bell_pairs)\n",
    "\n",
    "circ.append(Us,[0,1,2])\n",
    "circ.append(Us,[3,4,5])\n",
    "\n",
    "insert_bell_measurement(circ, [2,3])\n",
    "insert_bell_measurement(circ, [5,6])\n",
    "\n",
    "########################### run simulation ################################\n",
    "\n",
    "be = f_mel\n",
    "pct = 100\n",
    "shots = 100*pct\n",
    "qobj = assemble(circ, shots=shots)\n",
    "result = be.run(qobj).result().get_counts()\n",
    "\n",
    "############################ see results ##################################\n",
    "\n",
    "bob_meas_1  = sum([v for (k,v) in result.items() if k[0]==\"1\"])\n",
    "bob_p_meas_1 = sum([v for (k,v) in result.items() if k[1]==\"1\"])\n",
    "meas1_1 = sum([v for (k,v) in result.items() if k[meas_a_i]==\"1\"])\n",
    "meas2_1 =  sum([v for (k,v) in result.items() if k[meas_b_i]==\"1\"])\n",
    "print(\"\\n\",be)\n",
    "print(\"\\n Fidelity Bob Qubit: \\t{}%\".format(bob_meas_1/pct)) \n",
    "print(\"\\n Fidelity Bob Partner: \\t{}%\".format(bob_p_meas_1/pct)) \n",
    "print(\"\\n Fidelity Base Meas A: \\t{}%\".format(meas1_1/pct)) \n",
    "print(\"\\n Fidelity Base Meas B: \\t{}%\".format(meas2_1/pct)) \n",
    "\n",
    "circ.draw('mpl',plot_barriers=False)"
   ]
  },
  {
   "cell_type": "code",
   "execution_count": null,
   "id": "0f2c56ba",
   "metadata": {},
   "outputs": [],
   "source": []
  }
 ],
 "metadata": {
  "kernelspec": {
   "display_name": "metal",
   "language": "python",
   "name": "metal"
  },
  "language_info": {
   "codemirror_mode": {
    "name": "ipython",
    "version": 3
   },
   "file_extension": ".py",
   "mimetype": "text/x-python",
   "name": "python",
   "nbconvert_exporter": "python",
   "pygments_lexer": "ipython3",
   "version": "3.7.8"
  }
 },
 "nbformat": 4,
 "nbformat_minor": 5
}
