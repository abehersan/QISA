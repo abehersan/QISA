{
 "cells": [
  {
   "cell_type": "code",
   "execution_count": 1,
   "id": "c9c56d2b",
   "metadata": {},
   "outputs": [],
   "source": [
    "%matplotlib inline\n",
    "import matplotlib, qiskit\n",
    "from matplotlib import pyplot as plt\n",
    "import numpy as np\n",
    "from numpy import pi\n",
    "from qiskit import QuantumRegister, ClassicalRegister, QuantumCircuit, Aer, IBMQ, transpile, schedule, assemble\n",
    "from qiskit.providers.aer import QasmSimulator\n",
    "from qiskit.test.mock import FakeAlmaden, FakeMelbourne\n",
    "# load account\n",
    "IBMQ.load_account()\n",
    "provider = IBMQ.get_provider(hub='ibm-q', group='open', project='main')\n",
    "# simulators:\n",
    "f_alma = FakeAlmaden() # simulator f_alma for pulse schedules\n",
    "f_mel = FakeMelbourne() # simulator f_mel for simulator backend mel"
   ]
  },
  {
   "cell_type": "markdown",
   "id": "c16a0557",
   "metadata": {},
   "source": [
    "# Deterministic Scrambling Circuit\n",
    "\n",
    "Reference: Verified Quantum Information Scrambling https://arxiv.org/abs/1806.02807\n",
    "\n",
    "![Determ1](.\\\\pics\\\\Determ1_Scrambling_Circ.jpg)\n",
    "\n",
    "\n",
    "Matrix:\n",
    "![Determ4](.\\\\pics\\\\Determ4_Scrambling_Circ.jpg)\n",
    "\n",
    "\n",
    "Unitary:\n",
    "![Determ2](.\\\\pics\\\\Determ2_Scrambling_Circ.jpg)\n"
   ]
  },
  {
   "cell_type": "markdown",
   "id": "56f2b46f",
   "metadata": {},
   "source": [
    "## General Functions:"
   ]
  },
  {
   "cell_type": "code",
   "execution_count": 9,
   "id": "c6ceeeb2",
   "metadata": {},
   "outputs": [],
   "source": [
    "# func to apply CZ and H gate unitary to upper or lower part of the circuit\n",
    "\n",
    "def make_3q_U(circ,half):\n",
    "    \n",
    "    circ.cz(half[0],half[2])\n",
    "    circ.cz(half[1],half[2])\n",
    "    circ.cz(half[0],half[1])\n",
    "    \n",
    "    circ.barrier(half)\n",
    "    \n",
    "    for i in half:\n",
    "        circ.h(i)\n",
    "        \n",
    "    circ.cz(half[0],half[2])\n",
    "    circ.cz(half[0],half[1])\n",
    "    circ.cz(half[1],half[2])"
   ]
  },
  {
   "cell_type": "code",
   "execution_count": 10,
   "id": "70ed9ee4",
   "metadata": {},
   "outputs": [],
   "source": [
    "# funcs for bell pair entanglement and measurement\n",
    "\n",
    "def entangle_bell_pairs(circ, bell_pairs):\n",
    "    # Define many-body-system bell pairs\n",
    "    for pair in bell_pairs:\n",
    "        circ.h(pair[0])\n",
    "        circ.cx(pair[0],pair[1])\n",
    "\n",
    "def disentangle_bell_pair(circ, pair):\n",
    "    circ.cx(pair[0], pair[1])\n",
    "    circ.h(pair[0])"
   ]
  },
  {
   "cell_type": "code",
   "execution_count": 11,
   "id": "f2da1655",
   "metadata": {},
   "outputs": [],
   "source": [
    "# func to return thet for Z rotation from Unitary parameter alpha\n",
    "\n",
    "def get_theta_from_alpha(alpha):\n",
    "    return (alpha*pi)/2"
   ]
  },
  {
   "cell_type": "code",
   "execution_count": 12,
   "id": "4d12bd05",
   "metadata": {},
   "outputs": [],
   "source": [
    "# find initial bell pairs for n qubit circ\n",
    "\n",
    "def get_bell_pairs(circ):\n",
    "\n",
    "    n = len(circ.qubits)\n",
    "    # make pairings:\n",
    "    if n%2 != 0:\n",
    "        initalsys = [x for x in range(n)][1:-1] # put first and last qubits aside for initial entanglement of the system\n",
    "        pairs = [[item,initalsys[int(len(initalsys)/2):][number]]\n",
    "                         for (number,item) in enumerate(reversed(initalsys[:int(len(initalsys)/2)]))]\n",
    "    else:\n",
    "        print(\"Find out how to deal with even number circ, Hannah!\")\n",
    "    # append pair bob and q before bob:   \n",
    "    pairs.append([n-2, n-1]) \n",
    "    \n",
    "    return pairs"
   ]
  },
  {
   "cell_type": "code",
   "execution_count": 13,
   "id": "03f1d93d",
   "metadata": {},
   "outputs": [],
   "source": [
    "# func to get structure of scrambling U and U* for n qubit circ\n",
    "\n",
    "def get_unitary_pairs(circ):\n",
    "    \n",
    "    if n%2 != 0:\n",
    "        upper_qs = [x for x in range(n-1)][:int(n/2)]\n",
    "        lower_qs = [x for x in range(n-1)][int(n/2):]\n",
    "    else:\n",
    "        print(\"Find out how to deal with even number circ, Hannah!\")\n",
    "    \n",
    "    upper_pairs = sorted([(upper_qs[i],upper_qs[i+1]) \n",
    "                   for i in range(len(upper_qs)-1)] + [(upper_qs[i],upper_qs[i+2]) \n",
    "                                                       for i in range(len(upper_qs)-2)])\n",
    "\n",
    "    lower_pairs = sorted([(lower_qs[i],lower_qs[i+1]) \n",
    "                   for i in range(len(lower_qs)-1)] + [(lower_qs[i],lower_qs[i+2]) \n",
    "                                                       for i in range(len(lower_qs)-2)])\n",
    "    \n",
    "    lower_pairs = [x for x in reversed(lower_pairs)]\n",
    "    \n",
    "    return upper_pairs, lower_pairs"
   ]
  },
  {
   "cell_type": "code",
   "execution_count": 14,
   "id": "27ca6f71",
   "metadata": {},
   "outputs": [],
   "source": [
    "# func to insert bob meas into circ\n",
    "\n",
    "def insert_bob_measurement(circ, bobs_pair):\n",
    "    circ.barrier()\n",
    "    circ.cx(bobs_pair[0],bobs_pair[1])\n",
    "    circ.h(bobs_pair[0])\n",
    "    circ.measure(bobs_pair[0],bobs_pair[0])\n",
    "    circ.measure(bobs_pair[1],bobs_pair[1])\n",
    "    circ.barrier()"
   ]
  },
  {
   "cell_type": "markdown",
   "id": "3c11cf0e",
   "metadata": {},
   "source": [
    "# Tests:"
   ]
  },
  {
   "cell_type": "code",
   "execution_count": 35,
   "id": "1a180317",
   "metadata": {},
   "outputs": [
    {
     "name": "stdout",
     "output_type": "stream",
     "text": [
      "\n",
      " Fidelity q5: \t46.48%\n",
      "\n",
      " Fidelity q6: \t60.28%\n"
     ]
    },
    {
     "data": {
      "image/png": "[encoded data removed]",
      "text/plain": [
       "<Figure size 688.597x505.68 with 1 Axes>"
      ]
     },
     "execution_count": 35,
     "metadata": {},
     "output_type": "execute_result"
    }
   ],
   "source": [
    "n = 7\n",
    "circ = QuantumCircuit(n,n)\n",
    "\n",
    "upper_qs = [x for x in range(n-1)][:int(n/2)]\n",
    "lower_qs = [x for x in range(n-1)][int(n/2):]  \n",
    "\n",
    "make_3q_U(circ, upper_qs)\n",
    "make_3q_U(circ, lower_qs)\n",
    "\n",
    "#insert_bob_measurement(circ,[2,3])\n",
    "insert_bob_measurement(circ,[5,6])\n",
    "\n",
    "# run on f_mel\n",
    "pct = 100\n",
    "shots = 100*pct\n",
    "qobj = assemble(circ, shots=shots)\n",
    "result = f_mel.run(qobj).result().get_counts()\n",
    "\n",
    "bob_meas_1 = sum([v for (k,v) in result.items() if k[0]==\"1\"])\n",
    "bob_meas_0 = sum([v for (k,v) in result.items() if k[0]==\"0\"])\n",
    "q5_1 = sum([v for (k,v) in result.items() if k[1]==\"1\"])\n",
    "q5_0 = sum([v for (k,v) in result.items() if k[1]==\"0\"])\n",
    "\n",
    "print(\"\\n Fidelity q5: \\t{}%\".format(q5_1/pct)) \n",
    "print(\"\\n Fidelity q6: \\t{}%\".format(bob_meas_1/pct)) \n",
    "\n",
    "circ.draw('mpl', plot_barriers=False)"
   ]
  },
  {
   "cell_type": "code",
   "execution_count": 36,
   "id": "f8d0c295",
   "metadata": {},
   "outputs": [
    {
     "name": "stdout",
     "output_type": "stream",
     "text": [
      "\n",
      " Fidelity q5: \t46.37%\n",
      "\n",
      " Fidelity q6: \t60.62%\n",
      "\n",
      " Fidelity meas1: \t47.99%\n",
      "\n",
      " Fidelity meas2: \t45.29%\n"
     ]
    },
    {
     "data": {
      "image/png": "[encoded data removed]",
      "text/plain": [
       "<Figure size 869.197x505.68 with 1 Axes>"
      ]
     },
     "execution_count": 36,
     "metadata": {},
     "output_type": "execute_result"
    }
   ],
   "source": [
    "n = 7\n",
    "circ = QuantumCircuit(n,n)\n",
    "\n",
    "upper_qs = [x for x in range(n-1)][:int(n/2)]\n",
    "lower_qs = [x for x in range(n-1)][int(n/2):]  \n",
    "\n",
    "make_3q_U(circ, upper_qs)\n",
    "make_3q_U(circ, lower_qs)\n",
    "\n",
    "basemeas = [2,3]\n",
    "\n",
    "insert_bob_measurement(circ,basemeas)\n",
    "insert_bob_measurement(circ,[5,6])\n",
    "\n",
    "# run on f_mel\n",
    "pct = 100\n",
    "shots = 100*pct\n",
    "qobj = assemble(circ, shots=shots)\n",
    "result = f_mel.run(qobj).result().get_counts()\n",
    "\n",
    "meas1 = -1 * (basemeas[0]+1)\n",
    "meas2 = -1 * (basemeas[1]+1)\n",
    "\n",
    "bob_meas_1 = sum([v for (k,v) in result.items() if k[0]==\"1\"])\n",
    "q5_1 = sum([v for (k,v) in result.items() if k[1]==\"1\"])\n",
    "meas1_1 = sum([v for (k,v) in result.items() if k[meas1]==\"1\"])\n",
    "meas2_1 =  sum([v for (k,v) in result.items() if k[meas2]==\"1\"])\n",
    "\n",
    "\n",
    "print(\"\\n Fidelity q5: \\t{}%\".format(q5_1/pct)) \n",
    "print(\"\\n Fidelity q6: \\t{}%\".format(bob_meas_1/pct)) \n",
    "print(\"\\n Fidelity meas1: \\t{}%\".format(meas1_1/pct)) \n",
    "print(\"\\n Fidelity meas2: \\t{}%\".format(meas2_1/pct)) \n",
    "\n",
    "circ.draw('mpl', plot_barriers=False)"
   ]
  },
  {
   "cell_type": "code",
   "execution_count": 37,
   "id": "6baef9a3",
   "metadata": {},
   "outputs": [
    {
     "data": {
      "text/plain": [
       "{'1000100': 886,\n",
       " '0001100': 445,\n",
       " '0001000': 514,\n",
       " '1000000': 899,\n",
       " '1001000': 776,\n",
       " '1101100': 604,\n",
       " '1100000': 797,\n",
       " '1001100': 675,\n",
       " '0000100': 563,\n",
       " '0000000': 605,\n",
       " '1100100': 743,\n",
       " '1101000': 682,\n",
       " '0100100': 483,\n",
       " '0101000': 433,\n",
       " '0100000': 495,\n",
       " '0101100': 400}"
      ]
     },
     "execution_count": 37,
     "metadata": {},
     "output_type": "execute_result"
    }
   ],
   "source": [
    "result"
   ]
  },
  {
   "cell_type": "code",
   "execution_count": null,
   "id": "cdccd64d",
   "metadata": {},
   "outputs": [],
   "source": []
  }
 ],
 "metadata": {
  "kernelspec": {
   "display_name": "metal",
   "language": "python",
   "name": "metal"
  },
  "language_info": {
   "codemirror_mode": {
    "name": "ipython",
    "version": 3
   },
   "file_extension": ".py",
   "mimetype": "text/x-python",
   "name": "python",
   "nbconvert_exporter": "python",
   "pygments_lexer": "ipython3",
   "version": "3.7.8"
  }
 },
 "nbformat": 4,
 "nbformat_minor": 5
}
