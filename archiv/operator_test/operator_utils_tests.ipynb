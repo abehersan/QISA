{
 "cells": [
  {
   "cell_type": "code",
   "execution_count": 1,
   "id": "f9a9e9b3",
   "metadata": {},
   "outputs": [],
   "source": [
    "from qiskit.test.mock import FakeAlmaden, FakeMelbourne\n",
    "from qiskit import QuantumCircuit, ClassicalRegister, QuantumRegister, BasicAer, Aer, IBMQ\n",
    "from qiskit import execute, schedule, assemble\n",
    "from qiskit.compiler import transpile\n",
    "import numpy as np\n",
    "\n",
    "from circ_utils import *\n",
    "\n",
    "# load account\n",
    "IBMQ.load_account()\n",
    "provider = IBMQ.get_provider(hub='ibm-q', group='open', project='main')\n",
    "\n",
    "# simulators:\n",
    "f_alma = FakeAlmaden() # simulator f_alma for pulse schedules\n",
    "f_mel = FakeMelbourne() # simulator f_mel for simulator backend mel"
   ]
  },
  {
   "cell_type": "markdown",
   "id": "aa94aeed",
   "metadata": {},
   "source": [
    "# Tests of operator_lib.py\n",
    "\n",
    "Module with Opertors from \"Quantum Scrambling Library\"\n",
    "\n",
    "Reference: http://iontrap.umd.edu/wp-content/uploads/2013/10/FiggattThesis.pd"
   ]
  },
  {
   "cell_type": "code",
   "execution_count": 18,
   "id": "bba51a49",
   "metadata": {},
   "outputs": [],
   "source": [
    "# import module to test:\n",
    "\n",
    "from operator_lib import *"
   ]
  },
  {
   "cell_type": "code",
   "execution_count": 19,
   "id": "b1c7920c",
   "metadata": {},
   "outputs": [
    {
     "data": {
      "image/png": "[encoded data removed]",
      "text/plain": [
       "<Figure size 206.997x505.68 with 1 Axes>"
      ]
     },
     "execution_count": 19,
     "metadata": {},
     "output_type": "execute_result"
    }
   ],
   "source": [
    "# TEST 1: P_op\n",
    "\n",
    "#################### circuit and structure ##################\n",
    "\n",
    "n = 7\n",
    "circ = QuantumCircuit(n,n)\n",
    "\n",
    "# epr pairs\n",
    "bell_pairs = get_bell_pairs(circ)\n",
    "\n",
    "# upper and lower half inums\n",
    "fst_half =  [x for x in range(int(len(circ.qubits)/2))]\n",
    "sec_half = [x for x in range(int(len(circ.qubits)/2),len(circ.qubits)-1)]\n",
    "\n",
    "# epr pairs for base measurement and bob\n",
    "basemeas, bob_pair = bell_pairs[0], bell_pairs[-1]\n",
    "\n",
    "# inums for classical registers basepair measurement\n",
    "meas_a_i, meas_b_i = -1 * (basemeas[0]+1), -1 * (basemeas[1]+1)\n",
    "\n",
    "# initial epr entanglement\n",
    "#entangle_bell_pairs(circ, bell_pairs)\n",
    "\n",
    "###################### apply operator unitary #############\n",
    "\n",
    "circ.append(P_op, fst_half)\n",
    "circ.append(P_op, sec_half)\n",
    "\n",
    "###################### see circ ###########################\n",
    "\n",
    "circ.draw('mpl')"
   ]
  },
  {
   "cell_type": "code",
   "execution_count": 16,
   "id": "0f74ca95",
   "metadata": {},
   "outputs": [
    {
     "data": {
      "image/png": "[encoded data removed]",
      "text/plain": [
       "<Figure size 206.997x505.68 with 1 Axes>"
      ]
     },
     "execution_count": 16,
     "metadata": {},
     "output_type": "execute_result"
    }
   ],
   "source": [
    "# TEST 2: G_op\n",
    "\n",
    "#################### circuit and structure ################\n",
    "n = 7\n",
    "circ = QuantumCircuit(n,n)\n",
    "\n",
    "# epr pairs\n",
    "bell_pairs = get_bell_pairs(circ)\n",
    "\n",
    "# upper and lower half inums\n",
    "fst_half =  [x for x in range(int(len(circ.qubits)/2))]\n",
    "sec_half = [x for x in range(int(len(circ.qubits)/2),len(circ.qubits)-1)]\n",
    "\n",
    "# epr pairs for base measurement and bob\n",
    "basemeas, bob_pair = bell_pairs[0], bell_pairs[-1]\n",
    "\n",
    "# inums for classical registers basepair measurement\n",
    "meas_a_i, meas_b_i = -1 * (basemeas[0]+1), -1 * (basemeas[1]+1)\n",
    "\n",
    "# initial epr entanglement\n",
    "#entangle_bell_pairs(circ, bell_pairs)\n",
    "\n",
    "###################### apply operator unitary #############\n",
    "\n",
    "circ.append(G_op, basemeas)\n",
    "circ.append(G_op, bob_pair)\n",
    "\n",
    "###################### see circ ############################\n",
    "\n",
    "circ.draw('mpl')"
   ]
  },
  {
   "cell_type": "code",
   "execution_count": 20,
   "id": "702af6b8",
   "metadata": {},
   "outputs": [
    {
     "data": {
      "image/png": "[encoded data removed]",
      "text/plain": [
       "<Figure size 206.997x505.68 with 1 Axes>"
      ]
     },
     "execution_count": 20,
     "metadata": {},
     "output_type": "execute_result"
    }
   ],
   "source": [
    "# TEST 3: Us_op\n",
    "\n",
    "#################### circuit and structure #################\n",
    "\n",
    "n = 7\n",
    "circ = QuantumCircuit(n,n)\n",
    "\n",
    "# epr pairs\n",
    "bell_pairs = get_bell_pairs(circ)\n",
    "\n",
    "# upper and lower half inums\n",
    "fst_half =  [x for x in range(int(len(circ.qubits)/2))]\n",
    "sec_half = [x for x in range(int(len(circ.qubits)/2),len(circ.qubits)-1)]\n",
    "\n",
    "# epr pairs for base measurement and bob\n",
    "basemeas, bob_pair = bell_pairs[0], bell_pairs[-1]\n",
    "\n",
    "# inums for classical registers basepair measurement\n",
    "meas_a_i, meas_b_i = -1 * (basemeas[0]+1), -1 * (basemeas[1]+1)\n",
    "\n",
    "# initial epr entanglement\n",
    "#entangle_bell_pairs(circ, bell_pairs)\n",
    "\n",
    "###################### apply operator unitary ###########\n",
    "\n",
    "circ.append(Us_op, fst_half)\n",
    "circ.append(Us_op, sec_half)\n",
    "\n",
    "###################### see circ #########################\n",
    "\n",
    "circ.draw('mpl')"
   ]
  },
  {
   "cell_type": "code",
   "execution_count": 21,
   "id": "38f38d8d",
   "metadata": {},
   "outputs": [
    {
     "data": {
      "image/png": "[encoded data removed]",
      "text/plain": [
       "<Figure size 206.997x505.68 with 1 Axes>"
      ]
     },
     "execution_count": 21,
     "metadata": {},
     "output_type": "execute_result"
    }
   ],
   "source": [
    "# TEST 4: Ucz_op\n",
    "\n",
    "#################### circuit and structure #################\n",
    "\n",
    "n = 7\n",
    "circ = QuantumCircuit(n,n)\n",
    "\n",
    "# epr pairs\n",
    "bell_pairs = get_bell_pairs(circ)\n",
    "\n",
    "# upper and lower half inums\n",
    "fst_half =  [x for x in range(int(len(circ.qubits)/2))]\n",
    "sec_half = [x for x in range(int(len(circ.qubits)/2),len(circ.qubits)-1)]\n",
    "\n",
    "# epr pairs for base measurement and bob\n",
    "basemeas, bob_pair = bell_pairs[0], bell_pairs[-1]\n",
    "\n",
    "# inums for classical registers basepair measurement\n",
    "meas_a_i, meas_b_i = -1 * (basemeas[0]+1), -1 * (basemeas[1]+1)\n",
    "\n",
    "# initial epr entanglement\n",
    "#entangle_bell_pairs(circ, bell_pairs)\n",
    "\n",
    "###################### apply operator unitary ###########\n",
    "\n",
    "circ.append(Ucz_op, fst_half)\n",
    "circ.append(Ucz_op, sec_half)\n",
    "\n",
    "###################### see circ #########################\n",
    "\n",
    "circ.draw('mpl')"
   ]
  },
  {
   "cell_type": "code",
   "execution_count": 23,
   "id": "6d699a86",
   "metadata": {},
   "outputs": [
    {
     "data": {
      "image/png": "[encoded data removed]",
      "text/plain": [
       "<Figure size 206.997x505.68 with 1 Axes>"
      ]
     },
     "execution_count": 23,
     "metadata": {},
     "output_type": "execute_result"
    }
   ],
   "source": [
    "# TEST 5: Ucs_op\n",
    "\n",
    "#################### circuit and structure #################\n",
    "\n",
    "n = 7\n",
    "circ = QuantumCircuit(n,n)\n",
    "\n",
    "# epr pairs\n",
    "bell_pairs = get_bell_pairs(circ)\n",
    "\n",
    "# upper and lower half inums\n",
    "fst_half =  [x for x in range(int(len(circ.qubits)/2))]\n",
    "sec_half = [x for x in range(int(len(circ.qubits)/2),len(circ.qubits)-1)]\n",
    "\n",
    "# epr pairs for base measurement and bob\n",
    "basemeas, bob_pair = bell_pairs[0], bell_pairs[-1]\n",
    "\n",
    "# inums for classical registers basepair measurement\n",
    "meas_a_i, meas_b_i = -1 * (basemeas[0]+1), -1 * (basemeas[1]+1)\n",
    "\n",
    "# initial epr entanglement\n",
    "#entangle_bell_pairs(circ, bell_pairs)\n",
    "\n",
    "###################### apply operator unitary ###########\n",
    "\n",
    "circ.append(Ucs_op, fst_half)\n",
    "circ.append(Ucs_op, sec_half)\n",
    "\n",
    "###################### see circ #########################\n",
    "\n",
    "circ.draw('mpl')"
   ]
  },
  {
   "cell_type": "code",
   "execution_count": null,
   "id": "e8d93de3",
   "metadata": {},
   "outputs": [],
   "source": []
  }
 ],
 "metadata": {
  "kernelspec": {
   "display_name": "metal",
   "language": "python",
   "name": "metal"
  },
  "language_info": {
   "codemirror_mode": {
    "name": "ipython",
    "version": 3
   },
   "file_extension": ".py",
   "mimetype": "text/x-python",
   "name": "python",
   "nbconvert_exporter": "python",
   "pygments_lexer": "ipython3",
   "version": "3.7.8"
  }
 },
 "nbformat": 4,
 "nbformat_minor": 5
}
